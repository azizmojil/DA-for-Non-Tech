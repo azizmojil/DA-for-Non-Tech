{
 "cells": [
  {
   "cell_type": "markdown",
   "id": "ca5df767",
   "metadata": {},
   "source": [
    "# Teaching NumPy with Jupyter Notebook"
   ]
  },
  {
   "cell_type": "code",
   "execution_count": null,
   "id": "492f8b3a",
   "metadata": {},
   "outputs": [],
   "source": [
    "import numpy as np"
   ]
  },
  {
   "cell_type": "markdown",
   "id": "d5ea8990",
   "metadata": {},
   "source": [
    "### 1. Importing NumPy"
   ]
  },
  {
   "cell_type": "code",
   "execution_count": null,
   "id": "c528de08",
   "metadata": {},
   "outputs": [],
   "source": [
    "import numpy as np"
   ]
  },
  {
   "cell_type": "markdown",
   "id": "b09867e3",
   "metadata": {},
   "source": [
    "### 2. Creating Arrays"
   ]
  },
  {
   "cell_type": "code",
   "execution_count": null,
   "id": "9cf1a11e",
   "metadata": {},
   "outputs": [],
   "source": [
    "# Create a 1D array\n",
    "array_1d = np.array([1, 2, 3, 4, 5])\n",
    "array_1d\n",
    "\n",
    "# Create a 2D array\n",
    "array_2d = np.array([[1, 2, 3], [4, 5, 6]])\n",
    "array_2d"
   ]
  },
  {
   "cell_type": "markdown",
   "id": "584b918b",
   "metadata": {},
   "source": [
    "### 3. Array Attributes"
   ]
  },
  {
   "cell_type": "code",
   "execution_count": null,
   "id": "b052b94a",
   "metadata": {},
   "outputs": [],
   "source": [
    "# Get the shape of the array\n",
    "array_2d.shape\n",
    "\n",
    "# Get the number of dimensions of the array\n",
    "array_2d.ndim\n",
    "\n",
    "# Get the data type of the array elements\n",
    "array_2d.dtype"
   ]
  },
  {
   "cell_type": "markdown",
   "id": "504da8d8",
   "metadata": {},
   "source": [
    "### 4. Array Indexing and Slicing"
   ]
  },
  {
   "cell_type": "code",
   "execution_count": null,
   "id": "0f2a9e69",
   "metadata": {},
   "outputs": [],
   "source": [
    "# Indexing a 1D array\n",
    "array_1d[2]\n",
    "\n",
    "# Indexing a 2D array\n",
    "array_2d[1, 2]\n",
    "\n",
    "# Slicing a 1D array\n",
    "array_1d[1:4]\n",
    "\n",
    "# Slicing a 2D array\n",
    "array_2d[:, 1:3]"
   ]
  },
  {
   "cell_type": "markdown",
   "id": "40785b45",
   "metadata": {},
   "source": [
    "### 5. Array Operations"
   ]
  },
  {
   "cell_type": "code",
   "execution_count": null,
   "id": "fac077ea",
   "metadata": {},
   "outputs": [],
   "source": [
    "# Element-wise addition\n",
    "array_1d + 10\n",
    "\n",
    "# Element-wise multiplication\n",
    "array_2d * 2\n",
    "\n",
    "# Dot product\n",
    "array_1d.dot(array_1d)\n",
    "\n",
    "# Matrix multiplication\n",
    "array_2d.dot(array_2d.T)"
   ]
  },
  {
   "cell_type": "markdown",
   "id": "06b66ca5",
   "metadata": {},
   "source": [
    "### 6. Universal Functions"
   ]
  },
  {
   "cell_type": "code",
   "execution_count": null,
   "id": "9b686f5f",
   "metadata": {},
   "outputs": [],
   "source": [
    "# Applying a universal function\n",
    "np.sqrt(array_1d)\n",
    "\n",
    "# Applying a universal function on 2D array\n",
    "np.exp(array_2d)"
   ]
  },
  {
   "cell_type": "markdown",
   "id": "852b29cc",
   "metadata": {},
   "source": [
    "### 7. Array Aggregation"
   ]
  },
  {
   "cell_type": "code",
   "execution_count": null,
   "id": "fc3b96c8",
   "metadata": {},
   "outputs": [],
   "source": [
    "# Sum of array elements\n",
    "np.sum(array_1d)\n",
    "\n",
    "# Mean of array elements\n",
    "np.mean(array_2d)\n",
    "\n",
    "# Standard deviation of array elements\n",
    "np.std(array_2d)"
   ]
  },
  {
   "cell_type": "markdown",
   "id": "d7fb0844",
   "metadata": {},
   "source": [
    "### 8. Reshaping Arrays"
   ]
  },
  {
   "cell_type": "code",
   "execution_count": null,
   "id": "29642863",
   "metadata": {},
   "outputs": [],
   "source": [
    "# Reshape 1D array to 2D array\n",
    "array_reshaped = array_1d.reshape((5, 1))\n",
    "array_reshaped\n",
    "\n",
    "# Flatten a 2D array to 1D\n",
    "array_flattened = array_2d.flatten()\n",
    "array_flattened"
   ]
  },
  {
   "cell_type": "markdown",
   "id": "b478ccc9",
   "metadata": {},
   "source": [
    "### 9. Stacking Arrays"
   ]
  },
  {
   "cell_type": "code",
   "execution_count": null,
   "id": "728da4b9",
   "metadata": {},
   "outputs": [],
   "source": [
    "# Vertical stack\n",
    "array_vstack = np.vstack([array_1d, array_1d])\n",
    "array_vstack\n",
    "\n",
    "# Horizontal stack\n",
    "array_hstack = np.hstack([array_2d, array_2d])\n",
    "array_hstack"
   ]
  },
  {
   "cell_type": "markdown",
   "id": "2c9f8d70",
   "metadata": {},
   "source": [
    "### 10. Splitting Arrays"
   ]
  },
  {
   "cell_type": "code",
   "execution_count": null,
   "id": "72fe3ea4",
   "metadata": {},
   "outputs": [],
   "source": [
    "# Split 1D array into 3 parts\n",
    "array_split = np.array_split(array_1d, 3)\n",
    "array_split\n",
    "\n",
    "# Split 2D array into 2 parts along the second axis\n",
    "array_split_2d = np.array_split(array_2d, 2, axis=1)\n",
    "array_split_2d"
   ]
  },
  {
   "cell_type": "markdown",
   "id": "9b1ee2ec",
   "metadata": {},
   "source": [
    "### 11. Broadcasting"
   ]
  },
  {
   "cell_type": "code",
   "execution_count": null,
   "id": "c5cb6eb4",
   "metadata": {},
   "outputs": [],
   "source": [
    "# Broadcasting example\n",
    "array_broadcast = array_2d + array_1d[:3]\n",
    "array_broadcast"
   ]
  },
  {
   "cell_type": "markdown",
   "id": "fed5d5f5",
   "metadata": {},
   "source": [
    "### 12. Boolean Indexing"
   ]
  },
  {
   "cell_type": "code",
   "execution_count": null,
   "id": "d8b56d36",
   "metadata": {},
   "outputs": [],
   "source": [
    "# Boolean indexing example\n",
    "bool_idx = array_1d > 2\n",
    "filtered_array = array_1d[bool_idx]\n",
    "filtered_array"
   ]
  },
  {
   "cell_type": "markdown",
   "id": "2919e807",
   "metadata": {},
   "source": [
    "### 13. Fancy Indexing"
   ]
  },
  {
   "cell_type": "code",
   "execution_count": null,
   "id": "b136f844",
   "metadata": {},
   "outputs": [],
   "source": [
    "# Fancy indexing example\n",
    "fancy_idx = [0, 2, 4]\n",
    "fancy_array = array_1d[fancy_idx]\n",
    "fancy_array"
   ]
  },
  {
   "cell_type": "markdown",
   "id": "448c2ff4",
   "metadata": {},
   "source": [
    "### 14. np.where()"
   ]
  },
  {
   "cell_type": "code",
   "execution_count": null,
   "id": "65ab1a49",
   "metadata": {},
   "outputs": [],
   "source": [
    "# np.where example\n",
    "where_array = np.where(array_1d > 2, array_1d, -1)\n",
    "where_array"
   ]
  },
  {
   "cell_type": "markdown",
   "id": "93416161",
   "metadata": {},
   "source": [
    "### 15. np.unique()"
   ]
  },
  {
   "cell_type": "code",
   "execution_count": null,
   "id": "8b0a5cd5",
   "metadata": {},
   "outputs": [],
   "source": [
    "# np.unique example\n",
    "unique_array = np.unique(array_1d)\n",
    "unique_array"
   ]
  },
  {
   "cell_type": "markdown",
   "id": "1a4a248b",
   "metadata": {},
   "source": [
    "### 16. np.concatenate()"
   ]
  },
  {
   "cell_type": "code",
   "execution_count": null,
   "id": "9479124b",
   "metadata": {},
   "outputs": [],
   "source": [
    "# np.concatenate example\n",
    "concat_array = np.concatenate((array_1d, array_1d))\n",
    "concat_array"
   ]
  },
  {
   "cell_type": "markdown",
   "id": "d1301439",
   "metadata": {},
   "source": [
    "### 17. np.stack()"
   ]
  },
  {
   "cell_type": "code",
   "execution_count": null,
   "id": "ff7887aa",
   "metadata": {},
   "outputs": [],
   "source": [
    "# np.stack example\n",
    "stack_array = np.stack((array_1d, array_1d))\n",
    "stack_array"
   ]
  },
  {
   "cell_type": "markdown",
   "id": "b3f165c6",
   "metadata": {},
   "source": [
    "### 18. np.tile()"
   ]
  },
  {
   "cell_type": "code",
   "execution_count": null,
   "id": "7521def6",
   "metadata": {},
   "outputs": [],
   "source": [
    "# np.tile example\n",
    "tile_array = np.tile(array_1d, 2)\n",
    "tile_array"
   ]
  },
  {
   "cell_type": "markdown",
   "id": "170ca953",
   "metadata": {},
   "source": [
    "### 19. np.repeat()"
   ]
  },
  {
   "cell_type": "code",
   "execution_count": null,
   "id": "82342110",
   "metadata": {},
   "outputs": [],
   "source": [
    "# np.repeat example\n",
    "repeat_array = np.repeat(array_1d, 2)\n",
    "repeat_array"
   ]
  },
  {
   "cell_type": "markdown",
   "id": "1716eb36",
   "metadata": {},
   "source": [
    "### 20. np.linspace()"
   ]
  },
  {
   "cell_type": "code",
   "execution_count": null,
   "id": "848dcfcc",
   "metadata": {},
   "outputs": [],
   "source": [
    "# np.linspace example\n",
    "linspace_array = np.linspace(0, 10, 5)\n",
    "linspace_array"
   ]
  }
 ],
 "metadata": {},
 "nbformat": 4,
 "nbformat_minor": 5
}
