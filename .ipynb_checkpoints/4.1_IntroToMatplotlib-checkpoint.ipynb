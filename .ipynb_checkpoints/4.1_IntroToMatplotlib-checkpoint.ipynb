{
 "cells": [
  {
   "cell_type": "markdown",
   "metadata": {},
   "source": [
    "# Matplotlib Training Notebook"
   ]
  },
  {
   "cell_type": "markdown",
   "metadata": {},
   "source": [
    "## Introduction to Matplotlib\n",
    "\n",
    "Welcome to the Matplotlib training notebook. In this notebook, you will learn the basics of the Matplotlib library for creating visualizations in Python. Follow the instructions and answer the questions to practice your Matplotlib skills."
   ]
  },
  {
   "cell_type": "markdown",
   "metadata": {},
   "source": [
    "## 1. Importing Matplotlib\n",
    "\n",
    "### Instruction:\n",
    "Import the matplotlib library. This is the first step before you can start using matplotlib.\n",
    "\n",
    "### Question:\n",
    "How do you import the `pyplot` module from the `matplotlib` library with the alias `plt`?"
   ]
  },
  {
   "cell_type": "code",
   "execution_count": null,
   "metadata": {},
   "outputs": [],
   "source": []
  },
  {
   "cell_type": "markdown",
   "metadata": {},
   "source": [
    "## 2. Creating a Simple Plot\n",
    "\n",
    "### Instruction:\n",
    "Create a simple line plot with matplotlib.\n",
    "\n",
    "### Question:\n",
    "Write the command to create a simple line plot of `y = [1, 2, 3, 4]` against `x = [1, 2, 3, 4]`."
   ]
  },
  {
   "cell_type": "code",
   "execution_count": null,
   "metadata": {},
   "outputs": [],
   "source": []
  },
  {
   "cell_type": "markdown",
   "metadata": {},
   "source": [
    "## 3. Adding Titles and Labels\n",
    "\n",
    "### Instruction:\n",
    "Adding titles and labels to your plot makes it more informative.\n",
    "\n",
    "### Question:\n",
    "How do you add a title, x-axis label, and y-axis label to a plot?"
   ]
  },
  {
   "cell_type": "code",
   "execution_count": null,
   "metadata": {},
   "outputs": [],
   "source": []
  },
  {
   "cell_type": "markdown",
   "metadata": {},
   "source": [
    "## 4. Plotting Multiple Lines\n",
    "\n",
    "### Instruction:\n",
    "You can plot multiple lines on the same plot for comparison.\n",
    "\n",
    "### Question:\n",
    "Write the commands to plot two lines: `y1 = [1, 2, 3, 4]` and `y2 = [4, 3, 2, 1]` against `x = [1, 2, 3, 4]` on the same plot."
   ]
  },
  {
   "cell_type": "code",
   "execution_count": null,
   "metadata": {},
   "outputs": [],
   "source": []
  },
  {
   "cell_type": "markdown",
   "metadata": {},
   "source": [
    "## 5. Customizing Line Styles\n",
    "\n",
    "### Instruction:\n",
    "Customize the style of lines in your plot.\n",
    "\n",
    "### Question:\n",
    "How do you change the color and style of the line in a plot?"
   ]
  },
  {
   "cell_type": "code",
   "execution_count": null,
   "metadata": {},
   "outputs": [],
   "source": []
  },
  {
   "cell_type": "markdown",
   "metadata": {},
   "source": [
    "## 6. Adding a Legend\n",
    "\n",
    "### Instruction:\n",
    "Adding a legend helps to identify different lines in a plot.\n",
    "\n",
    "### Question:\n",
    "How do you add a legend to a plot with two lines labeled 'Line 1' and 'Line 2'?"
   ]
  },
  {
   "cell_type": "code",
   "execution_count": null,
   "metadata": {},
   "outputs": [],
   "source": []
  },
  {
   "cell_type": "markdown",
   "metadata": {},
   "source": [
    "## 7. Creating Scatter Plots\n",
    "\n",
    "### Instruction:\n",
    "Scatter plots are useful for visualizing the relationship between two variables.\n",
    "\n",
    "### Question:\n",
    "Write the command to create a scatter plot of `y = [1, 2, 3, 4]` against `x = [4, 3, 2, 1]`."
   ]
  },
  {
   "cell_type": "code",
   "execution_count": null,
   "metadata": {},
   "outputs": [],
   "source": []
  },
  {
   "cell_type": "markdown",
   "metadata": {},
   "source": [
    "## 8. Creating Bar Charts\n",
    "\n",
    "### Instruction:\n",
    "Bar charts are useful for comparing categorical data.\n",
    "\n",
    "### Question:\n",
    "Write the command to create a bar chart with categories `['A', 'B', 'C', 'D']` and values `[10, 20, 15, 5]`."
   ]
  },
  {
   "cell_type": "code",
   "execution_count": null,
   "metadata": {},
   "outputs": [],
   "source": []
  },
  {
   "cell_type": "markdown",
   "metadata": {},
   "source": [
    "## 9. Creating Histograms\n",
    "\n",
    "### Instruction:\n",
    "Histograms are useful for visualizing the distribution of a dataset.\n",
    "\n",
    "### Question:\n",
    "Write the command to create a histogram of the data `[1, 2, 2, 3, 3, 3, 4, 4, 4, 4]`."
   ]
  },
  {
   "cell_type": "code",
   "execution_count": null,
   "metadata": {},
   "outputs": [],
   "source": []
  },
  {
   "cell_type": "markdown",
   "metadata": {},
   "source": [
    "## 10. Creating Subplots\n",
    "\n",
    "### Instruction:\n",
    "Subplots allow you to create multiple plots in a single figure.\n",
    "\n",
    "### Question:\n",
    "How do you create a figure with two subplots arranged in a 1x2 grid?"
   ]
  },
  {
   "cell_type": "code",
   "execution_count": null,
   "metadata": {},
   "outputs": [],
   "source": []
  }
 ],
 "metadata": {
  "kernelspec": {
   "display_name": "Python 3",
   "language": "python",
   "name": "python3"
  },
  "language_info": {
   "codemirror_mode": {
    "name": "ipython",
    "version": 3
   },
   "file_extension": ".py",
   "mimetype": "text/x-python",
   "name": "python",
   "nbconvert_exporter": "python",
   "pygments_lexer": "ipython3",
   "version": "3.8.5"
  }
 },
 "nbformat": 4,
 "nbformat_minor": 4
}
