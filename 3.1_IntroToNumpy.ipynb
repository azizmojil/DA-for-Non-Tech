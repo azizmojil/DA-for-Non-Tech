{
 "cells": [
  {
   "cell_type": "markdown",
   "id": "ca5df767",
   "metadata": {},
   "source": [
    "# Teaching NumPy with Jupyter Notebook"
   ]
  },
  {
   "cell_type": "markdown",
   "id": "d5ea8990",
   "metadata": {},
   "source": [
    "### 1. Importing NumPy"
   ]
  },
  {
   "cell_type": "code",
   "id": "c528de08",
   "metadata": {
    "ExecuteTime": {
     "end_time": "2024-06-27T13:55:32.536017Z",
     "start_time": "2024-06-27T13:55:32.529840Z"
    }
   },
   "source": [
    "import numpy as np"
   ],
   "outputs": [],
   "execution_count": 21
  },
  {
   "cell_type": "markdown",
   "id": "b09867e3",
   "metadata": {},
   "source": [
    "### 2. Creating Arrays"
   ]
  },
  {
   "metadata": {
    "ExecuteTime": {
     "end_time": "2024-06-27T14:00:07.355677Z",
     "start_time": "2024-06-27T14:00:07.340375Z"
    }
   },
   "cell_type": "code",
   "source": [
    "# Create a 1D array\n",
    "array_1d = np.array([1, 2, 3, 4, 5])\n",
    "array_1d"
   ],
   "id": "4ced5220ebb23e15",
   "outputs": [
    {
     "data": {
      "text/plain": [
       "array([1, 2, 3, 4, 5])"
      ]
     },
     "execution_count": 37,
     "metadata": {},
     "output_type": "execute_result"
    }
   ],
   "execution_count": 37
  },
  {
   "metadata": {
    "ExecuteTime": {
     "end_time": "2024-06-27T14:09:25.135426Z",
     "start_time": "2024-06-27T14:09:25.114573Z"
    }
   },
   "cell_type": "code",
   "source": [
    "# Create a 2D array\n",
    "array_2d = np.array([[1, 2, 3], [4, 5, 6]])\n",
    "array_2d"
   ],
   "id": "d0114f70562d82ab",
   "outputs": [
    {
     "data": {
      "text/plain": [
       "array([[1, 2, 3],\n",
       "       [4, 5, 6]])"
      ]
     },
     "execution_count": 49,
     "metadata": {},
     "output_type": "execute_result"
    }
   ],
   "execution_count": 49
  },
  {
   "cell_type": "markdown",
   "id": "584b918b",
   "metadata": {},
   "source": [
    "### 3. Array Attributes"
   ]
  },
  {
   "metadata": {
    "ExecuteTime": {
     "end_time": "2024-06-27T14:03:24.912649Z",
     "start_time": "2024-06-27T14:03:24.893863Z"
    }
   },
   "cell_type": "code",
   "source": [
    "# Get the shape of the array\n",
    "array_2d.shape"
   ],
   "id": "66dd6e48381f46ca",
   "outputs": [
    {
     "data": {
      "text/plain": [
       "(3, 3)"
      ]
     },
     "execution_count": 44,
     "metadata": {},
     "output_type": "execute_result"
    }
   ],
   "execution_count": 44
  },
  {
   "metadata": {
    "ExecuteTime": {
     "end_time": "2024-06-27T14:03:27.618649Z",
     "start_time": "2024-06-27T14:03:27.607094Z"
    }
   },
   "cell_type": "code",
   "source": [
    "# Get the number of dimensions of the array\n",
    "array_2d.ndim"
   ],
   "id": "b6db6c032f9d5e24",
   "outputs": [
    {
     "data": {
      "text/plain": [
       "2"
      ]
     },
     "execution_count": 45,
     "metadata": {},
     "output_type": "execute_result"
    }
   ],
   "execution_count": 45
  },
  {
   "metadata": {
    "ExecuteTime": {
     "end_time": "2024-06-27T14:02:45.917604Z",
     "start_time": "2024-06-27T14:02:45.901419Z"
    }
   },
   "cell_type": "code",
   "source": [
    "# Get the data type of the array elements\n",
    "array_2d.dtype"
   ],
   "id": "6b336ca75308cc21",
   "outputs": [
    {
     "data": {
      "text/plain": [
       "dtype('int64')"
      ]
     },
     "execution_count": 42,
     "metadata": {},
     "output_type": "execute_result"
    }
   ],
   "execution_count": 42
  },
  {
   "cell_type": "markdown",
   "id": "504da8d8",
   "metadata": {},
   "source": [
    "### 4. Array Indexing and Slicing"
   ]
  },
  {
   "metadata": {
    "ExecuteTime": {
     "end_time": "2024-06-27T14:08:29.490346Z",
     "start_time": "2024-06-27T14:08:29.476430Z"
    }
   },
   "cell_type": "code",
   "source": [
    "# Indexing a 1D array\n",
    "array_1d[2]"
   ],
   "id": "8b481e492c494783",
   "outputs": [
    {
     "data": {
      "text/plain": [
       "np.int64(3)"
      ]
     },
     "execution_count": 48,
     "metadata": {},
     "output_type": "execute_result"
    }
   ],
   "execution_count": 48
  },
  {
   "metadata": {
    "ExecuteTime": {
     "end_time": "2024-06-27T14:10:12.336778Z",
     "start_time": "2024-06-27T14:10:12.325282Z"
    }
   },
   "cell_type": "code",
   "source": [
    "# Indexing a 2D array\n",
    "array_2d[0, 2]"
   ],
   "id": "730ecc1bcee675f9",
   "outputs": [
    {
     "data": {
      "text/plain": [
       "np.int64(3)"
      ]
     },
     "execution_count": 51,
     "metadata": {},
     "output_type": "execute_result"
    }
   ],
   "execution_count": 51
  },
  {
   "metadata": {
    "ExecuteTime": {
     "end_time": "2024-06-27T14:10:22.977065Z",
     "start_time": "2024-06-27T14:10:22.952936Z"
    }
   },
   "cell_type": "code",
   "source": [
    "# Slicing a 1D array\n",
    "array_1d[1:4]"
   ],
   "id": "2dfdd6d53ed176b4",
   "outputs": [
    {
     "data": {
      "text/plain": [
       "array([2, 3, 4])"
      ]
     },
     "execution_count": 52,
     "metadata": {},
     "output_type": "execute_result"
    }
   ],
   "execution_count": 52
  },
  {
   "metadata": {
    "ExecuteTime": {
     "end_time": "2024-06-27T14:11:00.495891Z",
     "start_time": "2024-06-27T14:11:00.474997Z"
    }
   },
   "cell_type": "code",
   "source": [
    "# Slicing a 2D array\n",
    "array_2d[:, 1:3]"
   ],
   "id": "3ba0cdf3237bf502",
   "outputs": [
    {
     "data": {
      "text/plain": [
       "array([[2, 3],\n",
       "       [5, 6]])"
      ]
     },
     "execution_count": 54,
     "metadata": {},
     "output_type": "execute_result"
    }
   ],
   "execution_count": 54
  },
  {
   "cell_type": "markdown",
   "id": "40785b45",
   "metadata": {},
   "source": "### 5. Array Operations"
  },
  {
   "metadata": {
    "ExecuteTime": {
     "end_time": "2024-06-27T13:56:55.301916Z",
     "start_time": "2024-06-27T13:56:55.288534Z"
    }
   },
   "cell_type": "code",
   "source": [
    "# Element-wise addition\n",
    "array_1d + 10"
   ],
   "id": "b2feb4a19b9cfa73",
   "outputs": [
    {
     "data": {
      "text/plain": [
       "array([11, 12, 13, 14, 15])"
      ]
     },
     "execution_count": 30,
     "metadata": {},
     "output_type": "execute_result"
    }
   ],
   "execution_count": 30
  },
  {
   "metadata": {
    "ExecuteTime": {
     "end_time": "2024-06-27T13:56:56.019221Z",
     "start_time": "2024-06-27T13:56:56.000849Z"
    }
   },
   "cell_type": "code",
   "source": [
    "# Element-wise multiplication\n",
    "array_2d * 2"
   ],
   "id": "f11e16e71b29299",
   "outputs": [
    {
     "data": {
      "text/plain": [
       "array([[ 2,  4,  6],\n",
       "       [ 8, 10, 12]])"
      ]
     },
     "execution_count": 31,
     "metadata": {},
     "output_type": "execute_result"
    }
   ],
   "execution_count": 31
  },
  {
   "metadata": {
    "ExecuteTime": {
     "end_time": "2024-06-27T13:57:02.675108Z",
     "start_time": "2024-06-27T13:57:02.667231Z"
    }
   },
   "cell_type": "code",
   "source": [
    "# Dot product\n",
    "array_1d.dot(array_1d)"
   ],
   "id": "964107ceccadb424",
   "outputs": [
    {
     "data": {
      "text/plain": [
       "np.int64(55)"
      ]
     },
     "execution_count": 32,
     "metadata": {},
     "output_type": "execute_result"
    }
   ],
   "execution_count": 32
  },
  {
   "metadata": {
    "ExecuteTime": {
     "end_time": "2024-06-27T13:57:03.783078Z",
     "start_time": "2024-06-27T13:57:03.773022Z"
    }
   },
   "cell_type": "code",
   "source": [
    "# Matrix multiplication\n",
    "array_2d.dot(array_2d.T)"
   ],
   "id": "bfd4b05a67e645a6",
   "outputs": [
    {
     "data": {
      "text/plain": [
       "array([[14, 32],\n",
       "       [32, 77]])"
      ]
     },
     "execution_count": 33,
     "metadata": {},
     "output_type": "execute_result"
    }
   ],
   "execution_count": 33
  },
  {
   "cell_type": "markdown",
   "id": "06b66ca5",
   "metadata": {},
   "source": [
    "### 6. Universal Functions"
   ]
  },
  {
   "metadata": {
    "ExecuteTime": {
     "end_time": "2024-06-27T13:57:17.915225Z",
     "start_time": "2024-06-27T13:57:17.905953Z"
    }
   },
   "cell_type": "code",
   "source": [
    "# Applying a universal function\n",
    "np.sqrt(array_1d)"
   ],
   "id": "5c7e03cc22d50706",
   "outputs": [
    {
     "data": {
      "text/plain": [
       "array([1.        , 1.41421356, 1.73205081, 2.        , 2.23606798])"
      ]
     },
     "execution_count": 34,
     "metadata": {},
     "output_type": "execute_result"
    }
   ],
   "execution_count": 34
  },
  {
   "metadata": {
    "ExecuteTime": {
     "end_time": "2024-06-27T13:57:18.392412Z",
     "start_time": "2024-06-27T13:57:18.383042Z"
    }
   },
   "cell_type": "code",
   "source": [
    "# Applying a universal function on 2D array\n",
    "np.exp(array_2d)"
   ],
   "id": "7728fdefb50ad22f",
   "outputs": [
    {
     "data": {
      "text/plain": [
       "array([[  2.71828183,   7.3890561 ,  20.08553692],\n",
       "       [ 54.59815003, 148.4131591 , 403.42879349]])"
      ]
     },
     "execution_count": 35,
     "metadata": {},
     "output_type": "execute_result"
    }
   ],
   "execution_count": 35
  },
  {
   "cell_type": "markdown",
   "id": "852b29cc",
   "metadata": {},
   "source": [
    "### 7. Array Aggregation"
   ]
  },
  {
   "cell_type": "code",
   "id": "fc3b96c8",
   "metadata": {
    "ExecuteTime": {
     "end_time": "2024-06-27T12:33:28.104027Z",
     "start_time": "2024-06-27T12:33:28.087130Z"
    }
   },
   "source": [
    "# Sum of array elements\n",
    "np.sum(array_1d)\n",
    "\n",
    "# Mean of array elements\n",
    "np.mean(array_2d)\n",
    "\n",
    "# Standard deviation of array elements\n",
    "np.std(array_2d)"
   ],
   "outputs": [
    {
     "data": {
      "text/plain": [
       "np.float64(1.707825127659933)"
      ]
     },
     "execution_count": 7,
     "metadata": {},
     "output_type": "execute_result"
    }
   ],
   "execution_count": 7
  },
  {
   "cell_type": "markdown",
   "id": "d7fb0844",
   "metadata": {},
   "source": [
    "### 8. Reshaping Arrays"
   ]
  },
  {
   "cell_type": "code",
   "id": "29642863",
   "metadata": {
    "ExecuteTime": {
     "end_time": "2024-06-27T12:33:29.034417Z",
     "start_time": "2024-06-27T12:33:29.021109Z"
    }
   },
   "source": [
    "# Reshape 1D array to 2D array\n",
    "array_reshaped = array_1d.reshape((5, 1))\n",
    "array_reshaped\n",
    "\n",
    "# Flatten a 2D array to 1D\n",
    "array_flattened = array_2d.flatten()\n",
    "array_flattened"
   ],
   "outputs": [
    {
     "data": {
      "text/plain": [
       "array([1, 2, 3, 4, 5, 6])"
      ]
     },
     "execution_count": 8,
     "metadata": {},
     "output_type": "execute_result"
    }
   ],
   "execution_count": 8
  },
  {
   "cell_type": "markdown",
   "id": "b478ccc9",
   "metadata": {},
   "source": [
    "### 9. Stacking Arrays"
   ]
  },
  {
   "cell_type": "code",
   "id": "728da4b9",
   "metadata": {
    "ExecuteTime": {
     "end_time": "2024-06-27T12:33:29.731700Z",
     "start_time": "2024-06-27T12:33:29.724994Z"
    }
   },
   "source": [
    "# Vertical stack\n",
    "array_vstack = np.vstack([array_1d, array_1d])\n",
    "array_vstack\n",
    "\n",
    "# Horizontal stack\n",
    "array_hstack = np.hstack([array_2d, array_2d])\n",
    "array_hstack"
   ],
   "outputs": [
    {
     "data": {
      "text/plain": [
       "array([[1, 2, 3, 1, 2, 3],\n",
       "       [4, 5, 6, 4, 5, 6]])"
      ]
     },
     "execution_count": 9,
     "metadata": {},
     "output_type": "execute_result"
    }
   ],
   "execution_count": 9
  },
  {
   "cell_type": "markdown",
   "id": "2c9f8d70",
   "metadata": {},
   "source": [
    "### 10. Splitting Arrays"
   ]
  },
  {
   "cell_type": "code",
   "id": "72fe3ea4",
   "metadata": {
    "ExecuteTime": {
     "end_time": "2024-06-27T12:33:30.447087Z",
     "start_time": "2024-06-27T12:33:30.440148Z"
    }
   },
   "source": [
    "# Split 1D array into 3 parts\n",
    "array_split = np.array_split(array_1d, 3)\n",
    "array_split\n",
    "\n",
    "# Split 2D array into 2 parts along the second axis\n",
    "array_split_2d = np.array_split(array_2d, 2, axis=1)\n",
    "array_split_2d"
   ],
   "outputs": [
    {
     "data": {
      "text/plain": [
       "[array([[1, 2],\n",
       "        [4, 5]]),\n",
       " array([[3],\n",
       "        [6]])]"
      ]
     },
     "execution_count": 10,
     "metadata": {},
     "output_type": "execute_result"
    }
   ],
   "execution_count": 10
  },
  {
   "cell_type": "markdown",
   "id": "9b1ee2ec",
   "metadata": {},
   "source": [
    "### 11. Broadcasting"
   ]
  },
  {
   "cell_type": "code",
   "id": "c5cb6eb4",
   "metadata": {
    "ExecuteTime": {
     "end_time": "2024-06-27T12:33:31.161543Z",
     "start_time": "2024-06-27T12:33:31.154519Z"
    }
   },
   "source": [
    "# Broadcasting example\n",
    "array_broadcast = array_2d + array_1d[:3]\n",
    "array_broadcast"
   ],
   "outputs": [
    {
     "data": {
      "text/plain": [
       "array([[2, 4, 6],\n",
       "       [5, 7, 9]])"
      ]
     },
     "execution_count": 11,
     "metadata": {},
     "output_type": "execute_result"
    }
   ],
   "execution_count": 11
  },
  {
   "cell_type": "markdown",
   "id": "fed5d5f5",
   "metadata": {},
   "source": [
    "### 12. Boolean Indexing"
   ]
  },
  {
   "cell_type": "code",
   "id": "d8b56d36",
   "metadata": {
    "ExecuteTime": {
     "end_time": "2024-06-27T12:33:31.897145Z",
     "start_time": "2024-06-27T12:33:31.887622Z"
    }
   },
   "source": [
    "# Boolean indexing example\n",
    "bool_idx = array_1d > 2\n",
    "filtered_array = array_1d[bool_idx]\n",
    "filtered_array"
   ],
   "outputs": [
    {
     "data": {
      "text/plain": [
       "array([3, 4, 5])"
      ]
     },
     "execution_count": 12,
     "metadata": {},
     "output_type": "execute_result"
    }
   ],
   "execution_count": 12
  },
  {
   "cell_type": "markdown",
   "id": "2919e807",
   "metadata": {},
   "source": [
    "### 13. Fancy Indexing"
   ]
  },
  {
   "cell_type": "code",
   "id": "b136f844",
   "metadata": {
    "ExecuteTime": {
     "end_time": "2024-06-27T12:33:32.622199Z",
     "start_time": "2024-06-27T12:33:32.612390Z"
    }
   },
   "source": [
    "# Fancy indexing example\n",
    "fancy_idx = [0, 2, 4]\n",
    "fancy_array = array_1d[fancy_idx]\n",
    "fancy_array"
   ],
   "outputs": [
    {
     "data": {
      "text/plain": [
       "array([1, 3, 5])"
      ]
     },
     "execution_count": 13,
     "metadata": {},
     "output_type": "execute_result"
    }
   ],
   "execution_count": 13
  },
  {
   "cell_type": "markdown",
   "id": "448c2ff4",
   "metadata": {},
   "source": [
    "### 14. np.where()"
   ]
  },
  {
   "cell_type": "code",
   "id": "65ab1a49",
   "metadata": {
    "ExecuteTime": {
     "end_time": "2024-06-27T12:33:33.295934Z",
     "start_time": "2024-06-27T12:33:33.282941Z"
    }
   },
   "source": [
    "# np.where example\n",
    "where_array = np.where(array_1d > 2, array_1d, -1)\n",
    "where_array"
   ],
   "outputs": [
    {
     "data": {
      "text/plain": [
       "array([-1, -1,  3,  4,  5])"
      ]
     },
     "execution_count": 14,
     "metadata": {},
     "output_type": "execute_result"
    }
   ],
   "execution_count": 14
  },
  {
   "cell_type": "markdown",
   "id": "93416161",
   "metadata": {},
   "source": [
    "### 15. np.unique()"
   ]
  },
  {
   "cell_type": "code",
   "id": "8b0a5cd5",
   "metadata": {
    "ExecuteTime": {
     "end_time": "2024-06-27T12:33:33.962153Z",
     "start_time": "2024-06-27T12:33:33.950316Z"
    }
   },
   "source": [
    "# np.unique example\n",
    "unique_array = np.unique(array_1d)\n",
    "unique_array"
   ],
   "outputs": [
    {
     "data": {
      "text/plain": [
       "array([1, 2, 3, 4, 5])"
      ]
     },
     "execution_count": 15,
     "metadata": {},
     "output_type": "execute_result"
    }
   ],
   "execution_count": 15
  },
  {
   "cell_type": "markdown",
   "id": "1a4a248b",
   "metadata": {},
   "source": [
    "### 16. np.concatenate()"
   ]
  },
  {
   "cell_type": "code",
   "id": "9479124b",
   "metadata": {
    "ExecuteTime": {
     "end_time": "2024-06-27T12:33:34.568327Z",
     "start_time": "2024-06-27T12:33:34.549253Z"
    }
   },
   "source": [
    "# np.concatenate example\n",
    "concat_array = np.concatenate((array_1d, array_1d))\n",
    "concat_array"
   ],
   "outputs": [
    {
     "data": {
      "text/plain": [
       "array([1, 2, 3, 4, 5, 1, 2, 3, 4, 5])"
      ]
     },
     "execution_count": 16,
     "metadata": {},
     "output_type": "execute_result"
    }
   ],
   "execution_count": 16
  },
  {
   "cell_type": "markdown",
   "id": "d1301439",
   "metadata": {},
   "source": [
    "### 17. np.stack()"
   ]
  },
  {
   "cell_type": "code",
   "id": "ff7887aa",
   "metadata": {
    "ExecuteTime": {
     "end_time": "2024-06-27T12:33:35.117288Z",
     "start_time": "2024-06-27T12:33:35.104565Z"
    }
   },
   "source": [
    "# np.stack example\n",
    "stack_array = np.stack((array_1d, array_1d))\n",
    "stack_array"
   ],
   "outputs": [
    {
     "data": {
      "text/plain": [
       "array([[1, 2, 3, 4, 5],\n",
       "       [1, 2, 3, 4, 5]])"
      ]
     },
     "execution_count": 17,
     "metadata": {},
     "output_type": "execute_result"
    }
   ],
   "execution_count": 17
  },
  {
   "cell_type": "markdown",
   "id": "b3f165c6",
   "metadata": {},
   "source": [
    "### 18. np.tile()"
   ]
  },
  {
   "cell_type": "code",
   "id": "7521def6",
   "metadata": {
    "ExecuteTime": {
     "end_time": "2024-06-27T12:33:35.687638Z",
     "start_time": "2024-06-27T12:33:35.677297Z"
    }
   },
   "source": [
    "# np.tile example\n",
    "tile_array = np.tile(array_1d, 2)\n",
    "tile_array"
   ],
   "outputs": [
    {
     "data": {
      "text/plain": [
       "array([1, 2, 3, 4, 5, 1, 2, 3, 4, 5])"
      ]
     },
     "execution_count": 18,
     "metadata": {},
     "output_type": "execute_result"
    }
   ],
   "execution_count": 18
  },
  {
   "cell_type": "markdown",
   "id": "170ca953",
   "metadata": {},
   "source": [
    "### 19. np.repeat()"
   ]
  },
  {
   "cell_type": "code",
   "id": "82342110",
   "metadata": {
    "ExecuteTime": {
     "end_time": "2024-06-27T12:33:36.308247Z",
     "start_time": "2024-06-27T12:33:36.297861Z"
    }
   },
   "source": [
    "# np.repeat example\n",
    "repeat_array = np.repeat(array_1d, 2)\n",
    "repeat_array"
   ],
   "outputs": [
    {
     "data": {
      "text/plain": [
       "array([1, 1, 2, 2, 3, 3, 4, 4, 5, 5])"
      ]
     },
     "execution_count": 19,
     "metadata": {},
     "output_type": "execute_result"
    }
   ],
   "execution_count": 19
  },
  {
   "cell_type": "markdown",
   "id": "1716eb36",
   "metadata": {},
   "source": [
    "### 20. np.linspace()"
   ]
  },
  {
   "cell_type": "code",
   "id": "848dcfcc",
   "metadata": {
    "ExecuteTime": {
     "end_time": "2024-06-27T12:33:36.921724Z",
     "start_time": "2024-06-27T12:33:36.898052Z"
    }
   },
   "source": [
    "# np.linspace example\n",
    "linspace_array = np.linspace(0, 10, 5)\n",
    "linspace_array"
   ],
   "outputs": [
    {
     "data": {
      "text/plain": [
       "array([ 0. ,  2.5,  5. ,  7.5, 10. ])"
      ]
     },
     "execution_count": 20,
     "metadata": {},
     "output_type": "execute_result"
    }
   ],
   "execution_count": 20
  },
  {
   "metadata": {},
   "cell_type": "code",
   "outputs": [],
   "execution_count": null,
   "source": "",
   "id": "9f11ec6b5626be1e"
  }
 ],
 "metadata": {
  "kernelspec": {
   "display_name": "Python 3 (ipykernel)",
   "language": "python",
   "name": "python3"
  },
  "language_info": {
   "codemirror_mode": {
    "name": "ipython",
    "version": 3
   },
   "file_extension": ".py",
   "mimetype": "text/x-python",
   "name": "python",
   "nbconvert_exporter": "python",
   "pygments_lexer": "ipython3",
   "version": "3.11.9"
  }
 },
 "nbformat": 4,
 "nbformat_minor": 5
}
