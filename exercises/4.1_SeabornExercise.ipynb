{
 "cells": [
  {
   "cell_type": "markdown",
   "id": "c734f220",
   "metadata": {},
   "source": [
    "# Seaborn Training Notebook with Titanic Data"
   ]
  },
  {
   "cell_type": "markdown",
   "id": "b5ad0be5",
   "metadata": {},
   "source": [
    "## Introduction to Seaborn\n",
    "\n",
    "Welcome to the Seaborn training notebook. In this notebook, you will learn the basics of the Seaborn library for data visualization using the Titanic dataset. Follow the instructions and answer the questions to practice your Seaborn skills."
   ]
  },
  {
   "cell_type": "markdown",
   "id": "4e3f089a",
   "metadata": {},
   "source": [
    "## 1. Importing Seaborn\n",
    "\n",
    "### Instruction:\n",
    "Import the Seaborn library as sns. This is the first step before you can start using Seaborn.\n",
    "\n",
    "### Question:\n",
    "How do you import the Seaborn library with the alias `sns`?"
   ]
  },
  {
   "cell_type": "code",
   "execution_count": null,
   "id": "858a259e",
   "metadata": {},
   "outputs": [],
   "source": [
    "# Your code here"
   ]
  },
  {
   "cell_type": "markdown",
   "id": "266d0e7e",
   "metadata": {},
   "source": [
    "## 2. Load the Titanic dataset\n",
    "\n",
    "### Instruction:\n",
    "Load the Titanic dataset from Seaborn's built-in datasets.\n",
    "\n",
    "### Question:\n",
    "How do you load the Titanic dataset using Seaborn?"
   ]
  },
  {
   "cell_type": "code",
   "execution_count": null,
   "id": "d88685ed",
   "metadata": {},
   "outputs": [],
   "source": [
    "# Your code here"
   ]
  },
  {
   "cell_type": "markdown",
   "id": "4b181dc0",
   "metadata": {},
   "source": [
    "## 3. Display the first 5 rows of the dataset\n",
    "\n",
    "### Instruction:\n",
    "Display the first 5 rows of the Titanic dataset.\n",
    "\n",
    "### Question:\n",
    "How do you display the first 5 rows of the dataset?"
   ]
  },
  {
   "cell_type": "code",
   "execution_count": null,
   "id": "6c2b6816",
   "metadata": {},
   "outputs": [],
   "source": [
    "# Your code here"
   ]
  },
  {
   "cell_type": "markdown",
   "id": "136abec7",
   "metadata": {},
   "source": [
    "## 4. Basic scatter plot\n",
    "\n",
    "### Instruction:\n",
    "Create a scatter plot showing the relationship between `age` and `fare`.\n",
    "\n",
    "### Question:\n",
    "How do you create a scatter plot for `age` and `fare` using Seaborn?"
   ]
  },
  {
   "cell_type": "code",
   "execution_count": null,
   "id": "ceb480b8",
   "metadata": {},
   "outputs": [],
   "source": [
    "# Your code here"
   ]
  },
  {
   "cell_type": "markdown",
   "id": "6fb97cab",
   "metadata": {},
   "source": [
    "## 5. Distribution plot\n",
    "\n",
    "### Instruction:\n",
    "Create a distribution plot for the `age` column.\n",
    "\n",
    "### Question:\n",
    "How do you create a distribution plot for the `age` column using Seaborn?"
   ]
  },
  {
   "cell_type": "code",
   "execution_count": null,
   "id": "bf85185b",
   "metadata": {},
   "outputs": [],
   "source": [
    "# Your code here"
   ]
  },
  {
   "cell_type": "markdown",
   "id": "9d7c16b0",
   "metadata": {},
   "source": [
    "## 6. Count plot\n",
    "\n",
    "### Instruction:\n",
    "Create a count plot showing the number of passengers for each class.\n",
    "\n",
    "### Question:\n",
    "How do you create a count plot for the `class` column using Seaborn?"
   ]
  },
  {
   "cell_type": "code",
   "execution_count": null,
   "id": "36057f22",
   "metadata": {},
   "outputs": [],
   "source": [
    "# Your code here"
   ]
  },
  {
   "cell_type": "markdown",
   "id": "39ccc8fc",
   "metadata": {},
   "source": [
    "## 7. Box plot\n",
    "\n",
    "### Instruction:\n",
    "Create a box plot showing the distribution of `fare` for each class.\n",
    "\n",
    "### Question:\n",
    "How do you create a box plot for the `fare` column grouped by `class`?"
   ]
  },
  {
   "cell_type": "code",
   "execution_count": null,
   "id": "44cd92ab",
   "metadata": {},
   "outputs": [],
   "source": [
    "# Your code here"
   ]
  },
  {
   "cell_type": "markdown",
   "id": "4737b792",
   "metadata": {},
   "source": [
    "## 8. Heatmap of correlations\n",
    "\n",
    "### Instruction:\n",
    "Create a heatmap showing the correlation matrix of the dataset.\n",
    "\n",
    "### Question:\n",
    "How do you create a heatmap for the correlation matrix of the Titanic dataset?"
   ]
  },
  {
   "cell_type": "code",
   "execution_count": null,
   "id": "97074579",
   "metadata": {},
   "outputs": [],
   "source": [
    "# Your code here"
   ]
  },
  {
   "cell_type": "markdown",
   "id": "df6e7c25",
   "metadata": {},
   "source": [
    "## 9. Facet grid\n",
    "\n",
    "### Instruction:\n",
    "Create a facet grid of histograms for `age`, separated by `sex`.\n",
    "\n",
    "### Question:\n",
    "How do you create a facet grid of histograms for `age`, separated by `sex`?"
   ]
  },
  {
   "cell_type": "code",
   "execution_count": null,
   "id": "cdf6769e",
   "metadata": {},
   "outputs": [],
   "source": [
    "# Your code here"
   ]
  },
  {
   "cell_type": "markdown",
   "id": "b0220bd1",
   "metadata": {},
   "source": [
    "## 10. Pair plot\n",
    "\n",
    "### Instruction:\n",
    "Create a pair plot of the dataset, focusing on `age`, `fare`, and `survived`.\n",
    "\n",
    "### Question:\n",
    "How do you create a pair plot for the specified columns?"
   ]
  },
  {
   "cell_type": "code",
   "execution_count": null,
   "id": "789fee0d",
   "metadata": {},
   "outputs": [],
   "source": [
    "# Your code here"
   ]
  }
 ],
 "metadata": {},
 "nbformat": 4,
 "nbformat_minor": 5
}
