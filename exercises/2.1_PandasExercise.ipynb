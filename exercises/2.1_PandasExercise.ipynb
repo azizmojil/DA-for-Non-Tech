{
 "cells": [
  {
   "cell_type": "markdown",
   "id": "17d6acd6",
   "metadata": {},
   "source": [
    "# Pandas Training Notebook with Titanic Data"
   ]
  },
  {
   "cell_type": "markdown",
   "id": "007eb9e6",
   "metadata": {},
   "source": [
    "## Introduction to Pandas"
   ]
  },
  {
   "cell_type": "markdown",
   "id": "debab5fe",
   "metadata": {},
   "source": [
    "\n",
    "Welcome to the Pandas training notebook. In this notebook, you will learn the basics of the Pandas library for data manipulation and analysis using the Titanic dataset. Follow the instructions and answer the questions to practice your Pandas skills.\n"
   ]
  },
  {
   "cell_type": "markdown",
   "id": "a8649cba",
   "metadata": {},
   "source": [
    "## 1. Importing Pandas"
   ]
  },
  {
   "cell_type": "markdown",
   "id": "d1ff268b",
   "metadata": {},
   "source": [
    "\n",
    "### Instruction:\n",
    "Import the pandas library as pd. This is the first step before you can start using pandas.\n",
    "\n",
    "### Question:\n",
    "How do you import the pandas library with the alias `pd`?\n"
   ]
  },
  {
   "cell_type": "code",
   "execution_count": null,
   "id": "f9225ab0",
   "metadata": {},
   "outputs": [],
   "source": []
  },
  {
   "cell_type": "markdown",
   "id": "066f13b5",
   "metadata": {},
   "source": [
    "## 2. Reading Data"
   ]
  },
  {
   "cell_type": "markdown",
   "id": "723024e0",
   "metadata": {},
   "source": [
    "\n",
    "### Instruction:\n",
    "Pandas can read data from various file formats like CSV, Excel, and SQL databases. You will start by reading a CSV file.\n",
    "\n",
    "### Question:\n",
    "Write the command to read a CSV file named `titanic.csv` into a DataFrame called `titanic_data`.\n"
   ]
  },
  {
   "cell_type": "code",
   "execution_count": null,
   "id": "a71d3e8c",
   "metadata": {},
   "outputs": [],
   "source": []
  },
  {
   "cell_type": "markdown",
   "id": "439f2c98",
   "metadata": {},
   "source": [
    "## 3. Viewing Data"
   ]
  },
  {
   "cell_type": "markdown",
   "id": "b3630a98",
   "metadata": {},
   "source": [
    "\n",
    "### Instruction:\n",
    "Once you have loaded data into a DataFrame, it's important to get a sense of what the data looks like.\n",
    "\n",
    "### Question:\n",
    "How do you display the first 5 rows of the DataFrame `titanic_data`?\n"
   ]
  },
  {
   "cell_type": "code",
   "execution_count": null,
   "id": "dd39aebe",
   "metadata": {},
   "outputs": [],
   "source": []
  },
  {
   "cell_type": "markdown",
   "id": "b500db37",
   "metadata": {},
   "source": [
    "## 4. Data Information"
   ]
  },
  {
   "cell_type": "markdown",
   "id": "d2522e06",
   "metadata": {},
   "source": [
    "\n",
    "### Instruction:\n",
    "Getting an overview of your DataFrame's structure and summary statistics is crucial.\n",
    "\n",
    "### Question:\n",
    "What command would you use to get a concise summary of the DataFrame `titanic_data`, including the number of non-null entries in each column?\n"
   ]
  },
  {
   "cell_type": "code",
   "execution_count": null,
   "id": "f4310eef",
   "metadata": {},
   "outputs": [],
   "source": []
  },
  {
   "cell_type": "markdown",
   "id": "51660ec5",
   "metadata": {},
   "source": [
    "## 5. Selecting Data"
   ]
  },
  {
   "cell_type": "markdown",
   "id": "a3d25323",
   "metadata": {},
   "source": [
    "\n",
    "### Instruction:\n",
    "You often need to select specific rows and columns from your DataFrame.\n",
    "\n",
    "### Question:\n",
    "How do you select the `Age` column from the DataFrame `titanic_data`?\n"
   ]
  },
  {
   "cell_type": "code",
   "execution_count": null,
   "id": "44a7d113",
   "metadata": {},
   "outputs": [],
   "source": []
  },
  {
   "cell_type": "markdown",
   "id": "9f779cc7",
   "metadata": {},
   "source": [
    "## 6. Filtering Data"
   ]
  },
  {
   "cell_type": "markdown",
   "id": "3e89d92a",
   "metadata": {},
   "source": [
    "\n",
    "### Instruction:\n",
    "Filtering allows you to subset the data based on conditions.\n",
    "\n",
    "### Question:\n",
    "How do you filter the DataFrame `titanic_data` to include only rows where the `Age` column is greater than 30?\n"
   ]
  },
  {
   "cell_type": "code",
   "execution_count": null,
   "id": "6d75daa7",
   "metadata": {},
   "outputs": [],
   "source": []
  },
  {
   "cell_type": "markdown",
   "id": "fc87fc7d",
   "metadata": {},
   "source": [
    "## 7. Data Aggregation"
   ]
  },
  {
   "cell_type": "markdown",
   "id": "8b5e4c8b",
   "metadata": {},
   "source": [
    "\n",
    "### Instruction:\n",
    "Aggregation methods are used to compute summary statistics.\n",
    "\n",
    "### Question:\n",
    "How do you calculate the mean of the `Fare` column in the DataFrame `titanic_data`?\n"
   ]
  },
  {
   "cell_type": "code",
   "execution_count": null,
   "id": "a7a337ff",
   "metadata": {},
   "outputs": [],
   "source": []
  },
  {
   "cell_type": "markdown",
   "id": "16c0d6f5",
   "metadata": {},
   "source": [
    "## 8. Handling Missing Data"
   ]
  },
  {
   "cell_type": "markdown",
   "id": "172e358d",
   "metadata": {},
   "source": [
    "\n",
    "### Instruction:\n",
    "Handling missing data is a common task in data analysis.\n",
    "\n",
    "### Question:\n",
    "How do you drop all rows from the DataFrame `titanic_data` that contain any missing values?\n"
   ]
  },
  {
   "cell_type": "code",
   "execution_count": null,
   "id": "b7a25836",
   "metadata": {},
   "outputs": [],
   "source": []
  },
  {
   "cell_type": "markdown",
   "id": "cd173fb4",
   "metadata": {},
   "source": [
    "## 9. Grouping Data"
   ]
  },
  {
   "cell_type": "markdown",
   "id": "6ca28211",
   "metadata": {},
   "source": [
    "\n",
    "### Instruction:\n",
    "Grouping data is useful for performing operations on subsets of your data.\n",
    "\n",
    "### Question:\n",
    "How do you group the DataFrame `titanic_data` by the `Pclass` column and calculate the average fare for each class?\n"
   ]
  },
  {
   "cell_type": "code",
   "execution_count": null,
   "id": "c83847db",
   "metadata": {},
   "outputs": [],
   "source": []
  },
  {
   "cell_type": "markdown",
   "id": "f97d0a48",
   "metadata": {},
   "source": [
    "## 10. Merging DataFrames"
   ]
  },
  {
   "cell_type": "markdown",
   "id": "ddc2b506",
   "metadata": {},
   "source": [
    "\n",
    "### Instruction:\n",
    "Merging is used to combine multiple DataFrames into a single one.\n",
    "\n",
    "### Question:\n",
    "Write the command to merge  `titanic_data` with itself on the `PassengerId` column.\n"
   ]
  },
  {
   "cell_type": "code",
   "execution_count": null,
   "id": "def9ab30",
   "metadata": {},
   "outputs": [],
   "source": []
  }
 ],
 "metadata": {},
 "nbformat": 4,
 "nbformat_minor": 5
}
