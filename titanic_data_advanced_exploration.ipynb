{
 "cells": [
  {
   "cell_type": "markdown",
   "id": "c5c35d49",
   "metadata": {},
   "source": [
    "## 5. Value Counts (value_counts)"
   ]
  },
  {
   "cell_type": "code",
   "execution_count": null,
   "id": "96b87016",
   "metadata": {},
   "outputs": [],
   "source": [
    "titanic_data['Survived']"
   ]
  },
  {
   "cell_type": "markdown",
   "id": "431b5af2",
   "metadata": {},
   "source": [
    "## 6. Unique Values (unique)"
   ]
  },
  {
   "cell_type": "code",
   "execution_count": null,
   "id": "718b53a4",
   "metadata": {},
   "outputs": [],
   "source": [
    "titanic_data['Embarked'].unique()"
   ]
  },
  {
   "cell_type": "markdown",
   "id": "8e6e2a98",
   "metadata": {},
   "source": [
    "## 7. Grouping Data (groupby)"
   ]
  },
  {
   "cell_type": "code",
   "execution_count": null,
   "id": "ab2f9f8c",
   "metadata": {},
   "outputs": [],
   "source": [
    "titanic_data.groupby('Pclass')['Survived'].mean()"
   ]
  },
  {
   "cell_type": "markdown",
   "id": "039bff33",
   "metadata": {},
   "source": [
    "## 8. Sorting Values (sort_values)"
   ]
  },
  {
   "cell_type": "code",
   "execution_count": null,
   "id": "4e0570bc",
   "metadata": {},
   "outputs": [],
   "source": [
    "titanic_data.sort_values(by='Age')"
   ]
  },
  {
   "cell_type": "markdown",
   "id": "0e455c7c",
   "metadata": {},
   "source": [
    "## 9. Selecting Specific Columns"
   ]
  },
  {
   "cell_type": "code",
   "execution_count": null,
   "id": "1680b511",
   "metadata": {},
   "outputs": [],
   "source": [
    "titanic_data[['Name', 'Age', 'Survived']]"
   ]
  },
  {
   "cell_type": "markdown",
   "id": "54e5222f",
   "metadata": {},
   "source": [
    "## 10. Filtering Rows Based on Condition"
   ]
  },
  {
   "cell_type": "code",
   "execution_count": null,
   "id": "100ff238",
   "metadata": {},
   "outputs": [],
   "source": [
    "titanic_data[titanic_data['Age'] > 50]"
   ]
  }
 ],
 "metadata": {},
 "nbformat": 4,
 "nbformat_minor": 5
}
