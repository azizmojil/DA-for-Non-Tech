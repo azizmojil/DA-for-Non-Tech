{
 "cells": [
  {
   "cell_type": "markdown",
   "id": "38ecc659",
   "metadata": {},
   "source": [
    "\n",
    "# Further Exploration of the Titanic Dataset with Pandas\n",
    "\n",
    "This notebook continues the exploration of the Titanic dataset, demonstrating 10 additional Pandas functions, each with an explanation and example.\n"
   ]
  },
  {
   "cell_type": "code",
   "execution_count": null,
   "id": "8577e6fa",
   "metadata": {},
   "outputs": [],
   "source": [
    "\n",
    "import pandas as pd\n",
    "titanic_data = pd.read_csv('titanic.csv')\n"
   ]
  },
  {
   "cell_type": "markdown",
   "id": "bf727678",
   "metadata": {},
   "source": [
    "## 11. Slicing DataFrame Rows"
   ]
  },
  {
   "cell_type": "code",
   "execution_count": null,
   "id": "0a051d1d",
   "metadata": {},
   "outputs": [],
   "source": [
    "titanic_data[10:20]"
   ]
  },
  {
   "cell_type": "markdown",
   "id": "3e5f4245",
   "metadata": {},
   "source": [
    "## 12. loc[] - Label-based Indexing"
   ]
  },
  {
   "cell_type": "code",
   "execution_count": null,
   "id": "b9f300b8",
   "metadata": {},
   "outputs": [],
   "source": [
    "titanic_data.loc[titanic_data['Age'] > 50, ['Name', 'Age']]"
   ]
  },
  {
   "cell_type": "markdown",
   "id": "aeb7b71f",
   "metadata": {},
   "source": [
    "## 13. iloc[] - Position-based Indexing"
   ]
  },
  {
   "cell_type": "code",
   "execution_count": null,
   "id": "d521a203",
   "metadata": {},
   "outputs": [],
   "source": [
    "titanic_data.iloc[10:20, 1:3]"
   ]
  },
  {
   "cell_type": "markdown",
   "id": "0f2f619f",
   "metadata": {},
   "source": [
    "## 14. Filtering with Multiple Conditions"
   ]
  },
  {
   "cell_type": "code",
   "execution_count": null,
   "id": "133a0b96",
   "metadata": {},
   "outputs": [],
   "source": [
    "titanic_data[(titanic_data['Age'] > 30) & (titanic_data['Pclass'] == 1)]"
   ]
  },
  {
   "cell_type": "markdown",
   "id": "bc708fe8",
   "metadata": {},
   "source": [
    "## 15. mean() - Calculating Mean"
   ]
  },
  {
   "cell_type": "code",
   "execution_count": null,
   "id": "d6476f07",
   "metadata": {},
   "outputs": [],
   "source": [
    "titanic_data['Age'].mean()"
   ]
  },
  {
   "cell_type": "markdown",
   "id": "10038431",
   "metadata": {},
   "source": [
    "## 16. median() - Calculating Median"
   ]
  },
  {
   "cell_type": "code",
   "execution_count": null,
   "id": "37414b61",
   "metadata": {},
   "outputs": [],
   "source": [
    "titanic_data['Age'].median()"
   ]
  },
  {
   "cell_type": "markdown",
   "id": "e959ba90",
   "metadata": {},
   "source": [
    "## 17. std() - Calculating Standard Deviation"
   ]
  },
  {
   "cell_type": "code",
   "execution_count": null,
   "id": "7652d93f",
   "metadata": {},
   "outputs": [],
   "source": [
    "titanic_data['Age'].std()"
   ]
  },
  {
   "cell_type": "markdown",
   "id": "5d4b3f6b",
   "metadata": {},
   "source": [
    "## 18. nunique() - Counting Unique Values"
   ]
  },
  {
   "cell_type": "code",
   "execution_count": null,
   "id": "364be63b",
   "metadata": {},
   "outputs": [],
   "source": [
    "titanic_data['Embarked'].nunique()"
   ]
  },
  {
   "cell_type": "markdown",
   "id": "393a9d6d",
   "metadata": {},
   "source": [
    "## 19. rename() - Renaming DataFrame Columns"
   ]
  },
  {
   "cell_type": "code",
   "execution_count": null,
   "id": "809d3fc9",
   "metadata": {},
   "outputs": [],
   "source": [
    "titanic_data.rename(columns={'Pclass': 'Passenger Class'})"
   ]
  },
  {
   "cell_type": "markdown",
   "id": "e7c8ea49",
   "metadata": {},
   "source": [
    "## 20. drop() - Dropping DataFrame Columns"
   ]
  },
  {
   "cell_type": "code",
   "execution_count": null,
   "id": "443ba5ef",
   "metadata": {},
   "outputs": [],
   "source": [
    "titanic_data.drop('Cabin', axis=1)"
   ]
  }
 ],
 "metadata": {},
 "nbformat": 4,
 "nbformat_minor": 5
}
