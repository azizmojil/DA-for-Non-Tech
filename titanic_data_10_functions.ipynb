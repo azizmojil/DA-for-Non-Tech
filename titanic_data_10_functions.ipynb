{
 "cells": [
  {
   "cell_type": "markdown",
   "id": "a5214b6c",
   "metadata": {},
   "source": [
    "## 8. dropna() - Dropping Missing Values"
   ]
  },
  {
   "cell_type": "code",
   "execution_count": null,
   "id": "830c2176",
   "metadata": {},
   "outputs": [],
   "source": [
    "titanic_data.dropna()"
   ]
  },
  {
   "cell_type": "markdown",
   "id": "c5f1ad22",
   "metadata": {},
   "source": [
    "## 9. fillna() - Filling Missing Values"
   ]
  },
  {
   "cell_type": "code",
   "execution_count": null,
   "id": "d6353270",
   "metadata": {},
   "outputs": [],
   "source": [
    "titanic_data.fillna(method='ffill')"
   ]
  }
 ],
 "metadata": {},
 "nbformat": 4,
 "nbformat_minor": 5
}
