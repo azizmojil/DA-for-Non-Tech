{
 "cells": [
  {
   "cell_type": "markdown",
   "id": "af9e6ca9",
   "metadata": {},
   "source": [
    "# Teaching Pandas with Jupyter Notebook"
   ]
  },
  {
   "cell_type": "markdown",
   "id": "c1b2c834",
   "metadata": {},
   "source": [
    "### 1. Importing Pandas"
   ]
  },
  {
   "cell_type": "code",
   "execution_count": null,
   "id": "bae229d3",
   "metadata": {},
   "outputs": [],
   "source": [
    "import pandas as pd"
   ]
  },
  {
   "cell_type": "markdown",
   "id": "50c1ea17",
   "metadata": {},
   "source": [
    "### 2. Reading an Excel File"
   ]
  },
  {
   "cell_type": "code",
   "execution_count": null,
   "id": "8aad8e36",
   "metadata": {},
   "outputs": [],
   "source": [
    "# Read the Excel file into a DataFrame\n",
    "file_path_excel = 'path_to_your_file.xlsx'\n",
    "data_excel = pd.read_excel(file_path_excel)\n",
    "# Display the first few rows of the DataFrame\n",
    "data_excel.head()"
   ]
  },
  {
   "cell_type": "markdown",
   "id": "aa9620f4",
   "metadata": {},
   "source": [
    "### 3. Reading a CSV File"
   ]
  },
  {
   "cell_type": "code",
   "execution_count": null,
   "id": "010e7ffd",
   "metadata": {},
   "outputs": [],
   "source": [
    "# Read the CSV file into a DataFrame\n",
    "file_path_csv = 'path_to_your_file.csv'\n",
    "data_csv = pd.read_csv(file_path_csv)\n",
    "# Display the first few rows of the DataFrame\n",
    "data_csv.head()"
   ]
  },
  {
   "cell_type": "markdown",
   "id": "b1cd541d",
   "metadata": {},
   "source": [
    "### 4. Viewing DataFrame Information"
   ]
  },
  {
   "cell_type": "code",
   "execution_count": null,
   "id": "d6bd387f",
   "metadata": {},
   "outputs": [],
   "source": [
    "# Display information about the DataFrame\n",
    "data_csv.info()"
   ]
  },
  {
   "cell_type": "markdown",
   "id": "ceb7e4bf",
   "metadata": {},
   "source": [
    "### 5. Viewing DataFrame Summary Statistics"
   ]
  },
  {
   "cell_type": "code",
   "execution_count": null,
   "id": "a46d5e56",
   "metadata": {},
   "outputs": [],
   "source": [
    "# Display summary statistics for the DataFrame\n",
    "data_csv.describe()"
   ]
  },
  {
   "cell_type": "markdown",
   "id": "7688cebb",
   "metadata": {},
   "source": [
    "### Slicing DataFrame Rows"
   ]
  },
  {
   "cell_type": "code",
   "execution_count": null,
   "id": "85015390",
   "metadata": {},
   "outputs": [],
   "source": [
    "titanic_data[10:20]"
   ]
  },
  {
   "cell_type": "markdown",
   "id": "08923fb9",
   "metadata": {},
   "source": [
    "### loc[] - Label-based Indexing"
   ]
  },
  {
   "cell_type": "code",
   "execution_count": null,
   "id": "e72c8f5a",
   "metadata": {},
   "outputs": [],
   "source": [
    "titanic_data.loc[titanic_data['Age'] > 50, ['Name', 'Age']]"
   ]
  },
  {
   "cell_type": "markdown",
   "id": "74fe26f0",
   "metadata": {},
   "source": [
    "### iloc[] - Position-based Indexing"
   ]
  },
  {
   "cell_type": "code",
   "execution_count": null,
   "id": "75716521",
   "metadata": {},
   "outputs": [],
   "source": [
    "titanic_data.iloc[10:20, 1:3]"
   ]
  },
  {
   "cell_type": "markdown",
   "id": "bcb510ff",
   "metadata": {},
   "source": [
    "### Filtering with Multiple Conditions"
   ]
  },
  {
   "cell_type": "code",
   "execution_count": null,
   "id": "55b97e25",
   "metadata": {},
   "outputs": [],
   "source": [
    "titanic_data[(titanic_data['Age'] > 30) & (titanic_data['Pclass'] == 1)]"
   ]
  },
  {
   "cell_type": "markdown",
   "id": "6a88f7d1",
   "metadata": {},
   "source": [
    "### mean() - Calculating Mean"
   ]
  },
  {
   "cell_type": "code",
   "execution_count": null,
   "id": "7c08adae",
   "metadata": {},
   "outputs": [],
   "source": [
    "titanic_data['Age'].mean()"
   ]
  },
  {
   "cell_type": "markdown",
   "id": "e838e6b7",
   "metadata": {},
   "source": [
    "### median() - Calculating Median"
   ]
  },
  {
   "cell_type": "code",
   "execution_count": null,
   "id": "6d1741e1",
   "metadata": {},
   "outputs": [],
   "source": [
    "titanic_data['Age'].median()"
   ]
  },
  {
   "cell_type": "markdown",
   "id": "b6b5ebc0",
   "metadata": {},
   "source": [
    "### std() - Calculating Standard Deviation"
   ]
  },
  {
   "cell_type": "code",
   "execution_count": null,
   "id": "35045441",
   "metadata": {},
   "outputs": [],
   "source": [
    "titanic_data['Age'].std()"
   ]
  },
  {
   "cell_type": "markdown",
   "id": "36ddeaaf",
   "metadata": {},
   "source": [
    "### nunique() - Counting Unique Values"
   ]
  },
  {
   "cell_type": "code",
   "execution_count": null,
   "id": "aaefecda",
   "metadata": {},
   "outputs": [],
   "source": [
    "titanic_data['Embarked'].nunique()"
   ]
  },
  {
   "cell_type": "markdown",
   "id": "67482d40",
   "metadata": {},
   "source": [
    "### rename() - Renaming DataFrame Columns"
   ]
  },
  {
   "cell_type": "code",
   "execution_count": null,
   "id": "9d4f1417",
   "metadata": {},
   "outputs": [],
   "source": [
    "titanic_data.rename(columns={'Pclass': 'Passenger Class'})"
   ]
  },
  {
   "cell_type": "markdown",
   "id": "2022df1e",
   "metadata": {},
   "source": [
    "### drop() - Dropping DataFrame Columns"
   ]
  },
  {
   "cell_type": "code",
   "execution_count": null,
   "id": "25e58498",
   "metadata": {},
   "outputs": [],
   "source": [
    "titanic_data.drop(columns=['column_name'])"
   ]
  },
  {
   "cell_type": "markdown",
   "id": "cd44351c",
   "metadata": {},
   "source": [
    "### 6. Selecting Columns"
   ]
  },
  {
   "cell_type": "code",
   "execution_count": null,
   "id": "708f8141",
   "metadata": {},
   "outputs": [],
   "source": [
    "# Select a single column\n",
    "data_csv['column_name']\n",
    "\n",
    "# Select multiple columns\n",
    "data_csv[['column_name1', 'column_name2']]"
   ]
  },
  {
   "cell_type": "markdown",
   "id": "7c8423ab",
   "metadata": {},
   "source": [
    "### 7. Slicing DataFrame Rows"
   ]
  },
  {
   "cell_type": "code",
   "execution_count": null,
   "id": "d86697bf",
   "metadata": {},
   "outputs": [],
   "source": [
    "# Select rows from index 10 to 19\n",
    "data_csv[10:20]"
   ]
  },
  {
   "cell_type": "markdown",
   "id": "f9acf26a",
   "metadata": {},
   "source": [
    "### 8. loc[] - Label-based Indexing"
   ]
  },
  {
   "cell_type": "code",
   "execution_count": null,
   "id": "b7b2e07f",
   "metadata": {},
   "outputs": [],
   "source": [
    "# Select rows where 'Age' is greater than 50 and display the 'Name' and 'Age' columns\n",
    "data_csv.loc[data_csv['Age'] > 50, ['Name', 'Age']]"
   ]
  },
  {
   "cell_type": "markdown",
   "id": "a48643f7",
   "metadata": {},
   "source": [
    "### 9. iloc[] - Position-based Indexing"
   ]
  },
  {
   "cell_type": "code",
   "execution_count": null,
   "id": "8bcdf989",
   "metadata": {},
   "outputs": [],
   "source": [
    "# Select rows from index 10 to 19 and columns from index 1 to 2\n",
    "data_csv.iloc[10:20, 1:3]"
   ]
  },
  {
   "cell_type": "markdown",
   "id": "675d1ca8",
   "metadata": {},
   "source": [
    "### 10. Filtering with Multiple Conditions"
   ]
  },
  {
   "cell_type": "code",
   "execution_count": null,
   "id": "c723c9c3",
   "metadata": {},
   "outputs": [],
   "source": [
    "# Select rows where 'Age' is greater than 30 and 'Pclass' is 1\n",
    "data_csv[(data_csv['Age'] > 30) & (data_csv['Pclass'] == 1)]"
   ]
  },
  {
   "cell_type": "markdown",
   "id": "6553d7cd",
   "metadata": {},
   "source": [
    "### 21. dropna() - Dropping Missing Values"
   ]
  },
  {
   "cell_type": "code",
   "execution_count": null,
   "id": "da777d50",
   "metadata": {},
   "outputs": [],
   "source": [
    "# Drop rows with any missing values\n",
    "data_csv.dropna()\n",
    "\n",
    "# Drop columns with any missing values\n",
    "data_csv.dropna(axis=1)"
   ]
  },
  {
   "cell_type": "markdown",
   "id": "3ae4e966",
   "metadata": {},
   "source": [
    "### 22. fillna() - Filling Missing Values"
   ]
  },
  {
   "cell_type": "code",
   "execution_count": null,
   "id": "e31caea4",
   "metadata": {},
   "outputs": [],
   "source": [
    "# Fill missing values with a specified value\n",
    "data_csv.fillna(0)\n",
    "\n",
    "# Fill missing values with the mean of the column\n",
    "data_csv['Age'].fillna(data_csv['Age'].mean(), inplace=True)"
   ]
  },
  {
   "cell_type": "markdown",
   "id": "f741968a",
   "metadata": {},
   "source": [
    "### 23. value_counts() - Counting Unique Values"
   ]
  },
  {
   "cell_type": "code",
   "execution_count": null,
   "id": "2e97b221",
   "metadata": {},
   "outputs": [],
   "source": [
    "# Count unique values in a column\n",
    "data_csv['Embarked'].value_counts()"
   ]
  },
  {
   "cell_type": "markdown",
   "id": "b69f9a69",
   "metadata": {},
   "source": [
    "### 24. groupby() - Grouping Data"
   ]
  },
  {
   "cell_type": "code",
   "execution_count": null,
   "id": "cc4036a2",
   "metadata": {},
   "outputs": [],
   "source": [
    "# Group data by a column and calculate the mean\n",
    "data_csv.groupby('Pclass')['Age'].mean()\n",
    "\n",
    "# Group data by multiple columns and calculate the sum\n",
    "data_csv.groupby(['Pclass', 'Sex'])['Fare'].sum()"
   ]
  },
  {
   "cell_type": "markdown",
   "id": "84203677",
   "metadata": {},
   "source": [
    "### 25. apply() - Applying a Function to DataFrame Elements"
   ]
  },
  {
   "cell_type": "code",
   "execution_count": null,
   "id": "bf4138d9",
   "metadata": {},
   "outputs": [],
   "source": [
    "# Define a function to increase age by 1\n",
    "def add_one(x):\n",
    "    return x + 1\n",
    "\n",
    "# Apply the function to the 'Age' column\n",
    "data_csv['Age'] = data_csv['Age'].apply(add_one)"
   ]
  },
  {
   "cell_type": "markdown",
   "id": "8da0aefd",
   "metadata": {},
   "source": [
    "### 26. map() - Mapping Values"
   ]
  },
  {
   "cell_type": "code",
   "execution_count": null,
   "id": "be7bb107",
   "metadata": {},
   "outputs": [],
   "source": [
    "# Create a mapping dictionary\n",
    "sex_mapping = {'male': 0, 'female': 1}\n",
    "\n",
    "# Map the values in the 'Sex' column\n",
    "data_csv['Sex'] = data_csv['Sex'].map(sex_mapping)"
   ]
  },
  {
   "cell_type": "markdown",
   "id": "3c2e0f97",
   "metadata": {},
   "source": [
    "### 27. sort_values() - Sorting Data"
   ]
  },
  {
   "cell_type": "code",
   "execution_count": null,
   "id": "53a81197",
   "metadata": {},
   "outputs": [],
   "source": [
    "# Sort data by 'Age'\n",
    "data_csv.sort_values(by='Age')\n",
    "\n",
    "# Sort data by 'Age' in descending order\n",
    "data_csv.sort_values(by='Age', ascending=False)"
   ]
  },
  {
   "cell_type": "markdown",
   "id": "14f37c44",
   "metadata": {},
   "source": [
    "### 28. pivot_table() - Creating a Pivot Table"
   ]
  },
  {
   "cell_type": "code",
   "execution_count": null,
   "id": "877c99bc",
   "metadata": {},
   "outputs": [],
   "source": [
    "# Create a pivot table\n",
    "pivot_table = data_csv.pivot_table(index='Pclass', columns='Sex', values='Age', aggfunc='mean')\n",
    "pivot_table"
   ]
  },
  {
   "cell_type": "markdown",
   "id": "7cb3e0ee",
   "metadata": {},
   "source": [
    "### 29. merge() - Merging DataFrames"
   ]
  },
  {
   "cell_type": "code",
   "execution_count": null,
   "id": "9a56dc62",
   "metadata": {},
   "outputs": [],
   "source": [
    "# Merge two DataFrames\n",
    "merged_data = pd.merge(data_csv, another_dataframe, on='common_column')\n",
    "merged_data.head()"
   ]
  },
  {
   "cell_type": "markdown",
   "id": "2bc3c933",
   "metadata": {},
   "source": [
    "### 30. concat() - Concatenating DataFrames"
   ]
  },
  {
   "cell_type": "code",
   "execution_count": null,
   "id": "c1c5c9f7",
   "metadata": {},
   "outputs": [],
   "source": [
    "# Concatenate two DataFrames\n",
    "concatenated_data = pd.concat([data_csv, another_dataframe])\n",
    "concatenated_data.head()"
   ]
  }
 ],
 "metadata": {},
 "nbformat": 4,
 "nbformat_minor": 5
}
