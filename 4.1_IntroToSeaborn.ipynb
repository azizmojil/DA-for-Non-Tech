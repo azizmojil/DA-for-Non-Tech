notebook_content_seaborn_exercise_corrected = {
 "cells": [
  {
   "cell_type": "markdown",
   "metadata": {},
   "source": [
    "# Seaborn Training Notebook with Titanic Data"
   ]
  },
  {
   "cell_type": "markdown",
   "metadata": {},
   "source": [
    "## Introduction to Seaborn\n",
    "\n",
    "Seaborn is a powerful Python library for data visualization. It is built on top of Matplotlib and provides a high-level interface for drawing attractive statistical graphics."
   ]
  },
  {
   "cell_type": "code",
   "metadata": {},
   "execution_count": None,
   "outputs": [],
   "source": [
    "import seaborn as sns\n",
    "import matplotlib.pyplot as plt\n",
    "%matplotlib inline"
   ]
  },
  {
   "cell_type": "markdown",
   "metadata": {},
   "source": [
    "## Loading the Titanic Dataset\n",
    "\n",
    "We will use the Titanic dataset for our visualizations. First, let's load the dataset from a CSV file and display some basic information about it."
   ]
  },
  {
   "cell_type": "code",
   "metadata": {},
   "execution_count": None,
   "outputs": [],
   "source": [
    "import pandas as pd\n",
    "titanic = pd.read_csv('titanic.csv')\n",
    "titanic.head()"
   ]
  },
  {
   "cell_type": "markdown",
   "metadata": {},
   "source": [
    "## Basic Plots\n",
    "\n",
    "### Scatter Plot\n",
    "Let's create a scatter plot to visualize the relationship between age and fare."
   ]
  },
  {
   "cell_type": "code",
   "metadata": {},
   "execution_count": None,
   "outputs": [],
   "source": [
    "sns.scatterplot(data=titanic, x='Age', y='Fare')\n",
    "plt.title('Age vs Fare')"
   ]
  },
  {
   "cell_type": "markdown",
   "metadata": {},
   "source": [
    "### Line Plot\n",
    "Next, let's create a line plot to visualize the trend of fare over age."
   ]
  },
  {
   "cell_type": "code",
   "metadata": {},
   "execution_count": None,
   "outputs": [],
   "source": [
    "sns.lineplot(data=titanic, x='Age', y='Fare')\n",
    "plt.title('Fare over Age')"
   ]
  },
  {
   "cell_type": "markdown",
   "metadata": {},
   "source": [
    "## Categorical Plots\n",
    "\n",
    "### Bar Plot\n",
    "Let's create a bar plot to show the count of passengers by class."
   ]
  },
  {
   "cell_type": "code",
   "metadata": {},
   "execution_count": None,
   "outputs": [],
   "source": [
    "sns.countplot(data=titanic, x='Pclass')\n",
    "plt.title('Passenger Count by Class')"
   ]
  },
  {
   "cell_type": "markdown",
   "metadata": {},
   "source": [
    "### Box Plot\n",
    "Now, let's create a box plot to show the distribution of fare by class."
   ]
  },
  {
   "cell_type": "code",
   "metadata": {},
   "execution_count": None,
   "outputs": [],
   "source": [
    "sns.boxplot(data=titanic, x='Pclass', y='Fare')\n",
    "plt.title('Fare Distribution by Class')"
   ]
  },
  {
   "cell_type": "markdown",
   "metadata": {},
   "source": [
    "## Advanced Plots\n",
    "\n",
    "### Pair Plot\n",
    "Let's create a pair plot to visualize the pairwise relationships in the dataset."
   ]
  },
  {
   "cell_type": "code",
   "metadata": {},
   "execution_count": None,
   "outputs": [],
   "source": [
    "sns.pairplot(titanic[['Age', 'Fare', 'Pclass', 'Survived']].dropna())"
   ]
  },
  {
   "cell_type": "markdown",
   "metadata": {},
   "source": [
    "### Heatmap\n",
    "Finally, let's create a heatmap to visualize the correlation matrix of the dataset."
   ]
  },
  {
   "cell_type": "code",
   "metadata": {},
   "execution_count": None,
   "outputs": [],
   "source": [
    "sns.heatmap(titanic.corr(), annot=True)\n",
    "plt.title('Correlation Matrix')"
   ]
  }
 ],
 "metadata": {},
 "nbformat": 4,
 "nbformat_minor": 4
}
