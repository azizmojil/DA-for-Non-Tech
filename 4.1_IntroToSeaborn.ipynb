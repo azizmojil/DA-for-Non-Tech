<<<<<<< new_version
{"cells": [{"cell_type": "markdown", "metadata": {}, "source": ["# Teaching Seaborn with Jupyter Notebook"]}, {"cell_type": "markdown", "metadata": {}, "source": ["### 1. Introduction to Seaborn\n", "Seaborn is a Python visualization library based on matplotlib that provides a high-level interface for drawing attractive statistical graphics."]}, {"cell_type": "markdown", "metadata": {}, "source": ["### 2. Importing Seaborn and Basic Setup"]}, {"cell_type": "code", "metadata": {}, "source": ["import seaborn as sns\n", "import matplotlib.pyplot as plt\n", "import pandas as pd\n", "# Load a sample dataset\n", "data = sns.load_dataset('tips')"], "execution_count": null, "outputs": []}, {"cell_type": "markdown", "metadata": {}, "source": ["### 3. Loading Datasets\n", "Seaborn comes with a few example datasets, one of which is the `tips` dataset that we'll use for examples."]}, {"cell_type": "code", "metadata": {}, "source": ["# Display the first few rows of the dataset\n", "data.head()"], "execution_count": null, "outputs": []}, {"cell_type": "markdown", "metadata": {}, "source": ["### 4. Seaborn Plotting Functions\n", "#### Visualization 1: Basic Distribution Plot"]}, {"cell_type": "code", "metadata": {}, "source": ["# Visualization 1: Basic Distribution Plot\n", "sns.histplot(data['total_bill'])\n", "plt.show()"], "execution_count": null, "outputs": []}, {"cell_type": "markdown", "metadata": {}, "source": ["#### Visualization 2: Distribution Plot with Title"]}, {"cell_type": "code", "metadata": {}, "source": ["# Visualization 2: Distribution Plot with Title\n", "sns.histplot(data['total_bill'])\n", "plt.title('Distribution of Total Bill')\n", "plt.show()"], "execution_count": null, "outputs": []}, {"cell_type": "markdown", "metadata": {}, "source": ["#### Visualization 3: Custom Size"]}, {"cell_type": "code", "metadata": {}, "source": ["# Visualization 3: Custom Size\n", "plt.figure(figsize=(10, 6))\n", "sns.histplot(data['total_bill'])\n", "plt.title('Distribution of Total Bill')\n", "plt.show()"], "execution_count": null, "outputs": []}, {"cell_type": "markdown", "metadata": {}, "source": ["#### Visualization 4: Adding Labels"]}, {"cell_type": "code", "metadata": {}, "source": ["# Visualization 4: Adding Labels\n", "plt.figure(figsize=(10, 6))\n", "sns.histplot(data['total_bill'])\n", "plt.title('Distribution of Total Bill')\n", "plt.xlabel('Total Bill')\n", "plt.ylabel('Frequency')\n", "plt.show()"], "execution_count": null, "outputs": []}, {"cell_type": "markdown", "metadata": {}, "source": ["#### Visualization 5: Different Plot Style"]}, {"cell_type": "code", "metadata": {}, "source": ["# Visualization 5: Different Plot Style\n", "sns.set_style('whitegrid')\n", "plt.figure(figsize=(10, 6))\n", "sns.histplot(data['total_bill'])\n", "plt.title('Distribution of Total Bill')\n", "plt.xlabel('Total Bill')\n", "plt.ylabel('Frequency')\n", "plt.show()"], "execution_count": null, "outputs": []}, {"cell_type": "markdown", "metadata": {}, "source": ["#### Visualization 6: Changing Color Palette"]}, {"cell_type": "code", "metadata": {}, "source": ["# Visualization 6: Changing Color Palette\n", "sns.set_palette('husl')\n", "plt.figure(figsize=(10, 6))\n", "sns.histplot(data['total_bill'], kde=True)\n", "plt.title('Distribution of Total Bill')\n", "plt.xlabel('Total Bill')\n", "plt.ylabel('Frequency')\n", "plt.show()"], "execution_count": null, "outputs": []}, {"cell_type": "markdown", "metadata": {}, "source": ["#### Visualization 7: Adding a KDE"]}, {"cell_type": "code", "metadata": {}, "source": ["# Visualization 7: Adding a KDE\n", "plt.figure(figsize=(10, 6))\n", "sns.histplot(data['total_bill'], kde=True)\n", "plt.title('Distribution of Total Bill')\n", "plt.xlabel('Total Bill')\n", "plt.ylabel('Frequency')\n", "plt.show()"], "execution_count": null, "outputs": []}, {"cell_type": "markdown", "metadata": {}, "source": ["#### Visualization 8: Boxplot"]}, {"cell_type": "code", "metadata": {}, "source": ["# Visualization 8: Boxplot\n", "plt.figure(figsize=(10, 6))\n", "sns.boxplot(x='day', y='total_bill', data=data)\n", "plt.title('Boxplot of Total Bill by Day')\n", "plt.xlabel('Day')\n", "plt.ylabel('Total Bill')\n", "plt.show()"], "execution_count": null, "outputs": []}, {"cell_type": "markdown", "metadata": {}, "source": ["#### Visualization 9: Heatmap"]}, {"cell_type": "code", "metadata": {}, "source": ["# Visualization 9: Heatmap\n", "plt.figure(figsize=(10, 6))\n", "sns.heatmap(data.corr(), annot=True, cmap='coolwarm')\n", "plt.title('Correlation Matrix')\n", "plt.show()"], "execution_count": null, "outputs": []}, {"cell_type": "markdown", "metadata": {}, "source": ["#### Visualization 10: Pairplot"]}, {"cell_type": "code", "metadata": {}, "source": ["# Visualization 10: Pairplot\n", "plt.figure(figsize=(10, 6))\n", "sns.pairplot(data)\n", "plt.show()"], "execution_count": null, "outputs": []}], "metadata": {"kernelspec": {"display_name": "Python 3", "language": "python", "name": "python3"}, "language_info": {"codemirror_mode": {"name": "ipython", "version": 3}, "file_extension": ".py", "mimetype": "text/x-python", "name": "python", "nbconvert_exporter": "python", "pygments_lexer": "ipython3", "version": "3.8.5"}}, "nbformat": 4, "nbformat_minor": 5}
=======
{
 "cells": [
  {
   "cell_type": "markdown",
   "metadata": {},
   "source": [
    "# Teaching Seaborn with Jupyter Notebook"
   ]
  },
  {
   "cell_type": "markdown",
   "metadata": {},
   "source": [
    "### 1. Introduction to Seaborn\n",
    "Seaborn is a Python visualization library based on matplotlib that provides a high-level interface for drawing attractive statistical graphics."
   ]
  },
  {
   "cell_type": "markdown",
   "metadata": {},
   "source": [
    "### 2. Importing Seaborn and Basic Setup"
   ]
  },
  {
   "cell_type": "code",
   "metadata": {},
   "source": [
    "import seaborn as sns\n",
    "import matplotlib.pyplot as plt\n",
    "import pandas as pd\n",
    "# Load a sample dataset\n",
    "data = sns.load_dataset('tips')"
   ],
   "execution_count": null,
   "outputs": []
  },
  {
   "cell_type": "markdown",
   "metadata": {},
   "source": [
    "### 3. Loading Datasets\n",
    "Seaborn comes with a few example datasets, one of which is the `tips` dataset that we'll use for examples."
   ]
  },
  {
   "cell_type": "code",
   "metadata": {},
   "source": [
    "# Display the first few rows of the dataset\n",
    "data.head()"
   ],
   "execution_count": null,
   "outputs": []
  },
  {
   "cell_type": "markdown",
   "metadata": {},
   "source": [
    "### 4. Seaborn Plotting Functions\n",
    "#### Distribution Plots\n",
    "Seaborn provides various functions to visualize data distributions, such as `distplot`, `kdeplot`, and `histplot`."
   ]
  },
  {
   "cell_type": "code",
   "metadata": {},
   "source": [
    "# Distribution Plot\n",
    "sns.histplot(data['total_bill'], kde=True)\n",
    "plt.title('Distribution of Total Bill')\n",
    "plt.show()"
   ],
   "execution_count": null,
   "outputs": []
  },
  {
   "cell_type": "markdown",
   "metadata": {},
   "source": [
    "#### Categorical Plots\n",
    "Seaborn also provides several functions for visualizing categorical data, such as `boxplot`, `violinplot`, and `stripplot`."
   ]
  },
  {
   "cell_type": "code",
   "metadata": {},
   "source": [
    "# Categorical Plot\n",
    "sns.boxplot(x='day', y='total_bill', data=data)\n",
    "plt.title('Boxplot of Total Bill by Day')\n",
    "plt.show()"
   ],
   "execution_count": null,
   "outputs": []
  },
  {
   "cell_type": "markdown",
   "metadata": {},
   "source": [
    "#### Matrix Plots\n",
    "Matrix plots are useful for visualizing data in matrix form. Seaborn provides functions like `heatmap` and `clustermap` for this purpose."
   ]
  },
  {
   "cell_type": "code",
   "metadata": {},
   "source": [
    "# Heatmap\n",
    "sns.heatmap(data.corr(), annot=True, cmap='coolwarm')\n",
    "plt.title('Correlation Matrix')\n",
    "plt.show()"
   ],
   "execution_count": null,
   "outputs": []
  },
  {
   "cell_type": "markdown",
   "metadata": {},
   "source": [
    "#### Regression Plots\n",
    "Seaborn's `regplot` and `lmplot` are used for visualizing linear relationships."
   ]
  },
  {
   "cell_type": "code",
   "metadata": {},
   "source": [
    "# Regression Plot\n",
    "sns.regplot(x='total_bill', y='tip', data=data)\n",
    "plt.title('Regression Plot of Total Bill vs Tip')\n",
    "plt.show()"
   ],
   "execution_count": null,
   "outputs": []
  },
  {
   "cell_type": "markdown",
   "metadata": {},
   "source": [
    "### 5. Customization and Styling\n",
    "Seaborn allows you to customize and style your plots easily with functions like `set_style`, `set_context`, and `color_palette`."
   ]
  },
  {
   "cell_type": "code",
   "metadata": {},
   "source": [
    "# Customization and Styling\n",
    "sns.set_style('whitegrid')\n",
    "sns.set_context('talk')\n",
    "sns.histplot(data['total_bill'], kde=True)\n",
    "plt.title('Customized Distribution Plot')\n",
    "plt.show()"
   ],
   "execution_count": null,
   "outputs": []
  },
  {
   "cell_type": "markdown",
   "metadata": {},
   "source": [
    "### 6. Combining Plots\n",
    "You can combine multiple plots using matplotlib's functionality along with Seaborn."
   ]
  },
  {
   "cell_type": "code",
   "metadata": {},
   "source": [
    "# Combining Plots\n",
    "fig, ax = plt.subplots(1, 2, figsize=(12, 5))\n",
    "sns.histplot(data['total_bill'], kde=True, ax=ax[0])\n",
    "sns.boxplot(x='day', y='total_bill', data=data, ax=ax[1])\n",
    "ax[0].set_title('Distribution of Total Bill')\n",
    "ax[1].set_title('Boxplot of Total Bill by Day')\n",
    "plt.tight_layout()\n",
    "plt.show()"
   ],
   "execution_count": null,
   "outputs": []
  }
 ],
 "metadata": {
  "kernelspec": {
   "display_name": "Python 3",
   "language": "python",
   "name": "python3"
  },
  "language_info": {
   "codemirror_mode": {
    "name": "ipython",
    "version": 3
   },
   "file_extension": ".py",
   "mimetype": "text/x-python",
   "name": "python",
   "nbconvert_exporter": "python",
   "pygments_lexer": "ipython3",
   "version": "3.8.5"
  }
 },
 "nbformat": 4,
 "nbformat_minor": 5
}
>>>>>>> main
