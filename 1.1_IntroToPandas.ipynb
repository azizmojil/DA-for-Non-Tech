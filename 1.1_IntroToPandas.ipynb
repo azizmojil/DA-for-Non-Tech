{
 "cells": [
  {
   "cell_type": "markdown",
   "id": "99b3a9b5",
   "metadata": {},
   "source": [
    "\n",
    "# Reading Data with Pandas\n",
    "\n",
    "In this Jupyter notebook, we will learn how to read data from different file formats using Pandas. We will cover:\n",
    "- Reading data from a CSV file.\n",
    "- Reading data from an Excel file.\n"
   ]
  },
  {
   "cell_type": "code",
   "execution_count": 1,
   "outputs": [
    {
     "name": "stdout",
     "output_type": "stream",
     "text": [
      "Requirement already satisfied: pandas in c:\\users\\aalmoajil\\pycharmprojects\\intro-to-data-analytics-for-non-techs-in-python\\venv\\lib\\site-packages (2.1.4)\n",
      "Requirement already satisfied: numpy<2,>=1.23.2 in c:\\users\\aalmoajil\\pycharmprojects\\intro-to-data-analytics-for-non-techs-in-python\\venv\\lib\\site-packages (from pandas) (1.26.2)\n",
      "Requirement already satisfied: python-dateutil>=2.8.2 in c:\\users\\aalmoajil\\pycharmprojects\\intro-to-data-analytics-for-non-techs-in-python\\venv\\lib\\site-packages (from pandas) (2.8.2)\n",
      "Requirement already satisfied: pytz>=2020.1 in c:\\users\\aalmoajil\\pycharmprojects\\intro-to-data-analytics-for-non-techs-in-python\\venv\\lib\\site-packages (from pandas) (2023.3.post1)\n",
      "Requirement already satisfied: tzdata>=2022.1 in c:\\users\\aalmoajil\\pycharmprojects\\intro-to-data-analytics-for-non-techs-in-python\\venv\\lib\\site-packages (from pandas) (2023.3)\n",
      "Requirement already satisfied: six>=1.5 in c:\\users\\aalmoajil\\pycharmprojects\\intro-to-data-analytics-for-non-techs-in-python\\venv\\lib\\site-packages (from python-dateutil>=2.8.2->pandas) (1.16.0)\n"
     ]
    }
   ],
   "source": [
    "## You can use Jupyter's code cells as a command terminal by prefixing your command with \"!\". Let us install Pandas using pip:\n",
    "!pip install pandas"
   ],
   "metadata": {
    "collapsed": false,
    "ExecuteTime": {
     "end_time": "2023-12-21T04:10:18.682341200Z",
     "start_time": "2023-12-21T04:10:12.019103800Z"
    }
   },
   "id": "91d70991165328a6"
  },
  {
   "cell_type": "code",
   "execution_count": 2,
   "outputs": [],
   "source": [
    "import pandas as pd\n",
    "import numpy as np"
   ],
   "metadata": {
    "collapsed": false,
    "ExecuteTime": {
     "end_time": "2023-12-21T04:10:23.598657300Z",
     "start_time": "2023-12-21T04:10:18.688797300Z"
    }
   },
   "id": "8cdaab6b570383a0"
  },
  {
   "cell_type": "markdown",
   "source": [
    "\n",
    "## Reading Data from a CSV File\n",
    "\n",
    "Pandas provides the `read_csv` function to read data from CSV files. Here is an example:\n"
   ],
   "metadata": {
    "collapsed": false
   },
   "id": "e355cb283e2cd398"
  },
  {
   "cell_type": "code",
   "execution_count": 3,
   "outputs": [],
   "source": [
    "# Assuming there's a CSV file named 'example.csv' in the current directory\n",
    "csv_data = pd.read_csv('data/titanic.csv')"
   ],
   "metadata": {
    "collapsed": false,
    "ExecuteTime": {
     "end_time": "2023-12-21T04:10:23.643599900Z",
     "start_time": "2023-12-21T04:10:23.604245900Z"
    }
   },
   "id": "b99b9d038aff7187"
  },
  {
   "cell_type": "markdown",
   "id": "0a39edf9",
   "metadata": {},
   "source": [
    "\n",
    "## Reading Data from an Excel File\n",
    "\n",
    "To read data from Excel files, we use the `read_excel` function. Here's how you can do it:\n"
   ]
  },
  {
   "cell_type": "code",
   "execution_count": 4,
   "id": "b1d7008f",
   "metadata": {
    "ExecuteTime": {
     "end_time": "2023-12-21T04:10:25.625436900Z",
     "start_time": "2023-12-21T04:10:23.644675500Z"
    }
   },
   "outputs": [],
   "source": [
    "# Assuming there's an Excel file named 'example.xlsx' in the current directory\n",
    "excel_data = pd.read_excel('data/titanic.xlsx', sheet_name='titanic')"
   ]
  },
  {
   "cell_type": "markdown",
   "source": [
    "\n",
    "## Viewing the Dataset\n",
    "\n",
    "Next, let's view the first few rows of the dataset to understand its structure.\n"
   ],
   "metadata": {
    "collapsed": false
   },
   "id": "76cf8f2932c97cb3"
  },
  {
   "cell_type": "code",
   "execution_count": 5,
   "outputs": [
    {
     "data": {
      "text/plain": "   PassengerId  Survived  Pclass  \\\n0            1         0       3   \n1            2         1       1   \n2            3         1       3   \n3            4         1       1   \n4            5         0       3   \n5            6         0       3   \n6            7         0       1   \n7            8         0       3   \n8            9         1       3   \n9           10         1       2   \n\n                                                Name     Sex   Age  SibSp  \\\n0                            Braund, Mr. Owen Harris    male  22.0      1   \n1  Cumings, Mrs. John Bradley (Florence Briggs Th...  female  38.0      1   \n2                             Heikkinen, Miss. Laina  female  26.0      0   \n3       Futrelle, Mrs. Jacques Heath (Lily May Peel)  female  35.0      1   \n4                           Allen, Mr. William Henry    male  35.0      0   \n5                                   Moran, Mr. James    male   NaN      0   \n6                            McCarthy, Mr. Timothy J    male  54.0      0   \n7                     Palsson, Master. Gosta Leonard    male   2.0      3   \n8  Johnson, Mrs. Oscar W (Elisabeth Vilhelmina Berg)  female  27.0      0   \n9                Nasser, Mrs. Nicholas (Adele Achem)  female  14.0      1   \n\n   Parch            Ticket     Fare Cabin Embarked  \n0      0         A/5 21171   7.2500   NaN        S  \n1      0          PC 17599  71.2833   C85        C  \n2      0  STON/O2. 3101282   7.9250   NaN        S  \n3      0            113803  53.1000  C123        S  \n4      0            373450   8.0500   NaN        S  \n5      0            330877   8.4583   NaN        Q  \n6      0             17463  51.8625   E46        S  \n7      1            349909  21.0750   NaN        S  \n8      2            347742  11.1333   NaN        S  \n9      0            237736  30.0708   NaN        C  ",
      "text/html": "<div>\n<style scoped>\n    .dataframe tbody tr th:only-of-type {\n        vertical-align: middle;\n    }\n\n    .dataframe tbody tr th {\n        vertical-align: top;\n    }\n\n    .dataframe thead th {\n        text-align: right;\n    }\n</style>\n<table border=\"1\" class=\"dataframe\">\n  <thead>\n    <tr style=\"text-align: right;\">\n      <th></th>\n      <th>PassengerId</th>\n      <th>Survived</th>\n      <th>Pclass</th>\n      <th>Name</th>\n      <th>Sex</th>\n      <th>Age</th>\n      <th>SibSp</th>\n      <th>Parch</th>\n      <th>Ticket</th>\n      <th>Fare</th>\n      <th>Cabin</th>\n      <th>Embarked</th>\n    </tr>\n  </thead>\n  <tbody>\n    <tr>\n      <th>0</th>\n      <td>1</td>\n      <td>0</td>\n      <td>3</td>\n      <td>Braund, Mr. Owen Harris</td>\n      <td>male</td>\n      <td>22.0</td>\n      <td>1</td>\n      <td>0</td>\n      <td>A/5 21171</td>\n      <td>7.2500</td>\n      <td>NaN</td>\n      <td>S</td>\n    </tr>\n    <tr>\n      <th>1</th>\n      <td>2</td>\n      <td>1</td>\n      <td>1</td>\n      <td>Cumings, Mrs. John Bradley (Florence Briggs Th...</td>\n      <td>female</td>\n      <td>38.0</td>\n      <td>1</td>\n      <td>0</td>\n      <td>PC 17599</td>\n      <td>71.2833</td>\n      <td>C85</td>\n      <td>C</td>\n    </tr>\n    <tr>\n      <th>2</th>\n      <td>3</td>\n      <td>1</td>\n      <td>3</td>\n      <td>Heikkinen, Miss. Laina</td>\n      <td>female</td>\n      <td>26.0</td>\n      <td>0</td>\n      <td>0</td>\n      <td>STON/O2. 3101282</td>\n      <td>7.9250</td>\n      <td>NaN</td>\n      <td>S</td>\n    </tr>\n    <tr>\n      <th>3</th>\n      <td>4</td>\n      <td>1</td>\n      <td>1</td>\n      <td>Futrelle, Mrs. Jacques Heath (Lily May Peel)</td>\n      <td>female</td>\n      <td>35.0</td>\n      <td>1</td>\n      <td>0</td>\n      <td>113803</td>\n      <td>53.1000</td>\n      <td>C123</td>\n      <td>S</td>\n    </tr>\n    <tr>\n      <th>4</th>\n      <td>5</td>\n      <td>0</td>\n      <td>3</td>\n      <td>Allen, Mr. William Henry</td>\n      <td>male</td>\n      <td>35.0</td>\n      <td>0</td>\n      <td>0</td>\n      <td>373450</td>\n      <td>8.0500</td>\n      <td>NaN</td>\n      <td>S</td>\n    </tr>\n    <tr>\n      <th>5</th>\n      <td>6</td>\n      <td>0</td>\n      <td>3</td>\n      <td>Moran, Mr. James</td>\n      <td>male</td>\n      <td>NaN</td>\n      <td>0</td>\n      <td>0</td>\n      <td>330877</td>\n      <td>8.4583</td>\n      <td>NaN</td>\n      <td>Q</td>\n    </tr>\n    <tr>\n      <th>6</th>\n      <td>7</td>\n      <td>0</td>\n      <td>1</td>\n      <td>McCarthy, Mr. Timothy J</td>\n      <td>male</td>\n      <td>54.0</td>\n      <td>0</td>\n      <td>0</td>\n      <td>17463</td>\n      <td>51.8625</td>\n      <td>E46</td>\n      <td>S</td>\n    </tr>\n    <tr>\n      <th>7</th>\n      <td>8</td>\n      <td>0</td>\n      <td>3</td>\n      <td>Palsson, Master. Gosta Leonard</td>\n      <td>male</td>\n      <td>2.0</td>\n      <td>3</td>\n      <td>1</td>\n      <td>349909</td>\n      <td>21.0750</td>\n      <td>NaN</td>\n      <td>S</td>\n    </tr>\n    <tr>\n      <th>8</th>\n      <td>9</td>\n      <td>1</td>\n      <td>3</td>\n      <td>Johnson, Mrs. Oscar W (Elisabeth Vilhelmina Berg)</td>\n      <td>female</td>\n      <td>27.0</td>\n      <td>0</td>\n      <td>2</td>\n      <td>347742</td>\n      <td>11.1333</td>\n      <td>NaN</td>\n      <td>S</td>\n    </tr>\n    <tr>\n      <th>9</th>\n      <td>10</td>\n      <td>1</td>\n      <td>2</td>\n      <td>Nasser, Mrs. Nicholas (Adele Achem)</td>\n      <td>female</td>\n      <td>14.0</td>\n      <td>1</td>\n      <td>0</td>\n      <td>237736</td>\n      <td>30.0708</td>\n      <td>NaN</td>\n      <td>C</td>\n    </tr>\n  </tbody>\n</table>\n</div>"
     },
     "execution_count": 5,
     "metadata": {},
     "output_type": "execute_result"
    }
   ],
   "source": [
    "# We're now viewing the first 10 rows of the dataframe. The default value of the .head() function is 5.\n",
    "excel_data.head(10)"
   ],
   "metadata": {
    "collapsed": false,
    "ExecuteTime": {
     "end_time": "2023-12-21T04:10:25.653214700Z",
     "start_time": "2023-12-21T04:10:25.426573600Z"
    }
   },
   "id": "4aa79329e53738eb"
  },
  {
   "cell_type": "code",
   "execution_count": 6,
   "outputs": [
    {
     "data": {
      "text/plain": "     PassengerId  Survived  Pclass                                      Name  \\\n886          887         0       2                     Montvila, Rev. Juozas   \n887          888         1       1              Graham, Miss. Margaret Edith   \n888          889         0       3  Johnston, Miss. Catherine Helen \"Carrie\"   \n889          890         1       1                     Behr, Mr. Karl Howell   \n890          891         0       3                       Dooley, Mr. Patrick   \n\n        Sex   Age  SibSp  Parch      Ticket   Fare Cabin Embarked  \n886    male  27.0      0      0      211536  13.00   NaN        S  \n887  female  19.0      0      0      112053  30.00   B42        S  \n888  female   NaN      1      2  W./C. 6607  23.45   NaN        S  \n889    male  26.0      0      0      111369  30.00  C148        C  \n890    male  32.0      0      0      370376   7.75   NaN        Q  ",
      "text/html": "<div>\n<style scoped>\n    .dataframe tbody tr th:only-of-type {\n        vertical-align: middle;\n    }\n\n    .dataframe tbody tr th {\n        vertical-align: top;\n    }\n\n    .dataframe thead th {\n        text-align: right;\n    }\n</style>\n<table border=\"1\" class=\"dataframe\">\n  <thead>\n    <tr style=\"text-align: right;\">\n      <th></th>\n      <th>PassengerId</th>\n      <th>Survived</th>\n      <th>Pclass</th>\n      <th>Name</th>\n      <th>Sex</th>\n      <th>Age</th>\n      <th>SibSp</th>\n      <th>Parch</th>\n      <th>Ticket</th>\n      <th>Fare</th>\n      <th>Cabin</th>\n      <th>Embarked</th>\n    </tr>\n  </thead>\n  <tbody>\n    <tr>\n      <th>886</th>\n      <td>887</td>\n      <td>0</td>\n      <td>2</td>\n      <td>Montvila, Rev. Juozas</td>\n      <td>male</td>\n      <td>27.0</td>\n      <td>0</td>\n      <td>0</td>\n      <td>211536</td>\n      <td>13.00</td>\n      <td>NaN</td>\n      <td>S</td>\n    </tr>\n    <tr>\n      <th>887</th>\n      <td>888</td>\n      <td>1</td>\n      <td>1</td>\n      <td>Graham, Miss. Margaret Edith</td>\n      <td>female</td>\n      <td>19.0</td>\n      <td>0</td>\n      <td>0</td>\n      <td>112053</td>\n      <td>30.00</td>\n      <td>B42</td>\n      <td>S</td>\n    </tr>\n    <tr>\n      <th>888</th>\n      <td>889</td>\n      <td>0</td>\n      <td>3</td>\n      <td>Johnston, Miss. Catherine Helen \"Carrie\"</td>\n      <td>female</td>\n      <td>NaN</td>\n      <td>1</td>\n      <td>2</td>\n      <td>W./C. 6607</td>\n      <td>23.45</td>\n      <td>NaN</td>\n      <td>S</td>\n    </tr>\n    <tr>\n      <th>889</th>\n      <td>890</td>\n      <td>1</td>\n      <td>1</td>\n      <td>Behr, Mr. Karl Howell</td>\n      <td>male</td>\n      <td>26.0</td>\n      <td>0</td>\n      <td>0</td>\n      <td>111369</td>\n      <td>30.00</td>\n      <td>C148</td>\n      <td>C</td>\n    </tr>\n    <tr>\n      <th>890</th>\n      <td>891</td>\n      <td>0</td>\n      <td>3</td>\n      <td>Dooley, Mr. Patrick</td>\n      <td>male</td>\n      <td>32.0</td>\n      <td>0</td>\n      <td>0</td>\n      <td>370376</td>\n      <td>7.75</td>\n      <td>NaN</td>\n      <td>Q</td>\n    </tr>\n  </tbody>\n</table>\n</div>"
     },
     "execution_count": 6,
     "metadata": {},
     "output_type": "execute_result"
    }
   ],
   "source": [
    "# You could also view the last rows using .tail() function.\n",
    "excel_data.tail()"
   ],
   "metadata": {
    "collapsed": false,
    "ExecuteTime": {
     "end_time": "2023-12-21T04:10:25.667826400Z",
     "start_time": "2023-12-21T04:10:25.548524200Z"
    }
   },
   "id": "da37fccd09cb4548"
  },
  {
   "cell_type": "markdown",
   "source": [
    "\n",
    "## Basic Statistics\n",
    "\n",
    "We can get a basic statistical overview of the dataset using the `describe()` function. Note that this function will provide info on numerical data, not categorical data.\n",
    "In its basic form, the `describe()` function will provide the following stats;\n",
    "* Count - count of non-empty values in the column\n",
    "* Mean  - mean of the column\n",
    "* std   - standard deviation of the column\n",
    "* min   - minimum value in the column\n",
    "* max   - maximum value in the column\n",
    "* 25%   - first quartile of the column\n",
    "* 50%   - second quartile of the column\n",
    "* 75%   - third quirtile of the column\n"
   ],
   "metadata": {
    "collapsed": false
   },
   "id": "972aeb83472f0743"
  },
  {
   "cell_type": "code",
   "execution_count": 7,
   "outputs": [
    {
     "data": {
      "text/plain": "       PassengerId    Survived      Pclass         Age       SibSp  \\\ncount   891.000000  891.000000  891.000000  714.000000  891.000000   \nmean    446.000000    0.383838    2.308642   29.699118    0.523008   \nstd     257.353842    0.486592    0.836071   14.526497    1.102743   \nmin       1.000000    0.000000    1.000000    0.420000    0.000000   \n10%      90.000000    0.000000    1.000000   14.000000    0.000000   \n25%     223.500000    0.000000    2.000000   20.125000    0.000000   \n50%     446.000000    0.000000    3.000000   28.000000    0.000000   \n75%     668.500000    1.000000    3.000000   38.000000    1.000000   \n90%     802.000000    1.000000    3.000000   50.000000    1.000000   \nmax     891.000000    1.000000    3.000000   80.000000    8.000000   \n\n            Parch        Fare  \ncount  891.000000  891.000000  \nmean     0.381594   32.204208  \nstd      0.806057   49.693429  \nmin      0.000000    0.000000  \n10%      0.000000    7.550000  \n25%      0.000000    7.910400  \n50%      0.000000   14.454200  \n75%      0.000000   31.000000  \n90%      2.000000   77.958300  \nmax      6.000000  512.329200  ",
      "text/html": "<div>\n<style scoped>\n    .dataframe tbody tr th:only-of-type {\n        vertical-align: middle;\n    }\n\n    .dataframe tbody tr th {\n        vertical-align: top;\n    }\n\n    .dataframe thead th {\n        text-align: right;\n    }\n</style>\n<table border=\"1\" class=\"dataframe\">\n  <thead>\n    <tr style=\"text-align: right;\">\n      <th></th>\n      <th>PassengerId</th>\n      <th>Survived</th>\n      <th>Pclass</th>\n      <th>Age</th>\n      <th>SibSp</th>\n      <th>Parch</th>\n      <th>Fare</th>\n    </tr>\n  </thead>\n  <tbody>\n    <tr>\n      <th>count</th>\n      <td>891.000000</td>\n      <td>891.000000</td>\n      <td>891.000000</td>\n      <td>714.000000</td>\n      <td>891.000000</td>\n      <td>891.000000</td>\n      <td>891.000000</td>\n    </tr>\n    <tr>\n      <th>mean</th>\n      <td>446.000000</td>\n      <td>0.383838</td>\n      <td>2.308642</td>\n      <td>29.699118</td>\n      <td>0.523008</td>\n      <td>0.381594</td>\n      <td>32.204208</td>\n    </tr>\n    <tr>\n      <th>std</th>\n      <td>257.353842</td>\n      <td>0.486592</td>\n      <td>0.836071</td>\n      <td>14.526497</td>\n      <td>1.102743</td>\n      <td>0.806057</td>\n      <td>49.693429</td>\n    </tr>\n    <tr>\n      <th>min</th>\n      <td>1.000000</td>\n      <td>0.000000</td>\n      <td>1.000000</td>\n      <td>0.420000</td>\n      <td>0.000000</td>\n      <td>0.000000</td>\n      <td>0.000000</td>\n    </tr>\n    <tr>\n      <th>10%</th>\n      <td>90.000000</td>\n      <td>0.000000</td>\n      <td>1.000000</td>\n      <td>14.000000</td>\n      <td>0.000000</td>\n      <td>0.000000</td>\n      <td>7.550000</td>\n    </tr>\n    <tr>\n      <th>25%</th>\n      <td>223.500000</td>\n      <td>0.000000</td>\n      <td>2.000000</td>\n      <td>20.125000</td>\n      <td>0.000000</td>\n      <td>0.000000</td>\n      <td>7.910400</td>\n    </tr>\n    <tr>\n      <th>50%</th>\n      <td>446.000000</td>\n      <td>0.000000</td>\n      <td>3.000000</td>\n      <td>28.000000</td>\n      <td>0.000000</td>\n      <td>0.000000</td>\n      <td>14.454200</td>\n    </tr>\n    <tr>\n      <th>75%</th>\n      <td>668.500000</td>\n      <td>1.000000</td>\n      <td>3.000000</td>\n      <td>38.000000</td>\n      <td>1.000000</td>\n      <td>0.000000</td>\n      <td>31.000000</td>\n    </tr>\n    <tr>\n      <th>90%</th>\n      <td>802.000000</td>\n      <td>1.000000</td>\n      <td>3.000000</td>\n      <td>50.000000</td>\n      <td>1.000000</td>\n      <td>2.000000</td>\n      <td>77.958300</td>\n    </tr>\n    <tr>\n      <th>max</th>\n      <td>891.000000</td>\n      <td>1.000000</td>\n      <td>3.000000</td>\n      <td>80.000000</td>\n      <td>8.000000</td>\n      <td>6.000000</td>\n      <td>512.329200</td>\n    </tr>\n  </tbody>\n</table>\n</div>"
     },
     "execution_count": 7,
     "metadata": {},
     "output_type": "execute_result"
    }
   ],
   "source": [
    "# You can also specify specific percentile points using the parameter 'percentile'. \n",
    "csv_data.describe(percentiles=[.1, .25, .5, .75, .9])"
   ],
   "metadata": {
    "collapsed": false,
    "ExecuteTime": {
     "end_time": "2023-12-21T04:10:25.804186900Z",
     "start_time": "2023-12-21T04:10:25.584937600Z"
    }
   },
   "id": "6207c390bab33b5b"
  },
  {
   "cell_type": "markdown",
   "source": [
    "## Dataframe's information\n",
    "\n",
    "We can get useful information on the dataframe using the `info()` function. E.g. index length, number of non-null values per column, column name, column's data type.\n",
    "You can also get the total number of columns of each type and the size of the dataframe in the memory. "
   ],
   "metadata": {
    "collapsed": false
   },
   "id": "b3d66f300a45a73a"
  },
  {
   "cell_type": "code",
   "execution_count": 8,
   "outputs": [
    {
     "name": "stdout",
     "output_type": "stream",
     "text": [
      "<class 'pandas.core.frame.DataFrame'>\n",
      "RangeIndex: 891 entries, 0 to 890\n",
      "Data columns (total 12 columns):\n",
      " #   Column       Non-Null Count  Dtype  \n",
      "---  ------       --------------  -----  \n",
      " 0   PassengerId  891 non-null    int64  \n",
      " 1   Survived     891 non-null    int64  \n",
      " 2   Pclass       891 non-null    int64  \n",
      " 3   Name         891 non-null    object \n",
      " 4   Sex          891 non-null    object \n",
      " 5   Age          714 non-null    float64\n",
      " 6   SibSp        891 non-null    int64  \n",
      " 7   Parch        891 non-null    int64  \n",
      " 8   Ticket       891 non-null    object \n",
      " 9   Fare         891 non-null    float64\n",
      " 10  Cabin        204 non-null    object \n",
      " 11  Embarked     889 non-null    object \n",
      "dtypes: float64(2), int64(5), object(5)\n",
      "memory usage: 83.7+ KB\n"
     ]
    }
   ],
   "source": [
    "csv_data.info()"
   ],
   "metadata": {
    "collapsed": false,
    "ExecuteTime": {
     "end_time": "2023-12-21T04:10:25.858414200Z",
     "start_time": "2023-12-21T04:10:25.743330800Z"
    }
   },
   "id": "36b2003fbd4c234f"
  },
  {
   "cell_type": "markdown",
   "source": [
    "## Finding unique values\n",
    "\n",
    "We can find all unique value in a column using `unique()` function."
   ],
   "metadata": {
    "collapsed": false
   },
   "id": "df201498e3b03fb7"
  },
  {
   "cell_type": "code",
   "execution_count": 30,
   "outputs": [
    {
     "data": {
      "text/plain": "array(['male', 'female'], dtype=object)"
     },
     "execution_count": 30,
     "metadata": {},
     "output_type": "execute_result"
    }
   ],
   "source": [
    "csv_data['Sex'].unique()"
   ],
   "metadata": {
    "collapsed": false,
    "ExecuteTime": {
     "end_time": "2023-12-21T04:21:34.868935500Z",
     "start_time": "2023-12-21T04:21:34.837387700Z"
    }
   },
   "id": "4de73327ccd7384f"
  },
  {
   "cell_type": "code",
   "execution_count": 31,
   "outputs": [
    {
     "data": {
      "text/plain": "array([0, 1, 2, 5, 3, 4, 6], dtype=int64)"
     },
     "execution_count": 31,
     "metadata": {},
     "output_type": "execute_result"
    }
   ],
   "source": [
    "csv_data['Parch'].unique()"
   ],
   "metadata": {
    "collapsed": false,
    "ExecuteTime": {
     "end_time": "2023-12-21T04:21:53.545573Z",
     "start_time": "2023-12-21T04:21:53.412078700Z"
    }
   },
   "id": "23ab000023f38ac0"
  },
  {
   "cell_type": "markdown",
   "source": [
    "## Counting unique values\n",
    "\n",
    "We can count the number of occurances of each unique value in a column using `value_counts()` function."
   ],
   "metadata": {
    "collapsed": false
   },
   "id": "5892fbf990ecbafa"
  },
  {
   "cell_type": "code",
   "execution_count": 32,
   "outputs": [
    {
     "data": {
      "text/plain": "Sex\nmale      577\nfemale    314\nName: count, dtype: int64"
     },
     "execution_count": 32,
     "metadata": {},
     "output_type": "execute_result"
    }
   ],
   "source": [
    "csv_data['Sex'].value_counts()"
   ],
   "metadata": {
    "collapsed": false,
    "ExecuteTime": {
     "end_time": "2023-12-21T04:21:54.982927600Z",
     "start_time": "2023-12-21T04:21:54.921308700Z"
    }
   },
   "id": "e87289f07822900d"
  },
  {
   "cell_type": "code",
   "execution_count": 10,
   "outputs": [
    {
     "data": {
      "text/plain": "Parch\n0    678\n1    118\n2     80\n5      5\n3      5\n4      4\n6      1\nName: count, dtype: int64"
     },
     "execution_count": 10,
     "metadata": {},
     "output_type": "execute_result"
    }
   ],
   "source": [
    "csv_data['Parch'].value_counts()"
   ],
   "metadata": {
    "collapsed": false,
    "ExecuteTime": {
     "end_time": "2023-12-21T04:10:26.377466700Z",
     "start_time": "2023-12-21T04:10:25.801971100Z"
    }
   },
   "id": "503ab815eb773639"
  },
  {
   "cell_type": "markdown",
   "source": [
    "## Counting empty \"Null\" values\n",
    "\n",
    "We can find null values using `isnull()` function. We will also add `sum()` to count them per column."
   ],
   "metadata": {
    "collapsed": false
   },
   "id": "bc9712550f08e861"
  },
  {
   "cell_type": "code",
   "execution_count": 27,
   "outputs": [
    {
     "name": "stdout",
     "output_type": "stream",
     "text": [
      "PassengerId      0\n",
      "Survived         0\n",
      "Pclass           0\n",
      "Name             0\n",
      "Sex              0\n",
      "Age            177\n",
      "SibSp            0\n",
      "Parch            0\n",
      "Ticket           0\n",
      "Fare             0\n",
      "Cabin          687\n",
      "Embarked         2\n",
      "dtype: int64\n"
     ]
    }
   ],
   "source": [
    "# 'print()' function is used here for convenience. You can ignore it for now.\n",
    "print(csv_data.isnull().sum())"
   ],
   "metadata": {
    "collapsed": false,
    "ExecuteTime": {
     "end_time": "2023-12-21T04:18:51.235384300Z",
     "start_time": "2023-12-21T04:18:51.212339700Z"
    }
   },
   "id": "6457401c42acf06"
  },
  {
   "cell_type": "code",
   "execution_count": 28,
   "outputs": [
    {
     "data": {
      "text/plain": "866"
     },
     "execution_count": 28,
     "metadata": {},
     "output_type": "execute_result"
    }
   ],
   "source": [
    "# We can add another 'sum()' to get the total count of null values across the dataframe.\n",
    "csv_data.isnull().sum().sum()"
   ],
   "metadata": {
    "collapsed": false,
    "ExecuteTime": {
     "end_time": "2023-12-21T04:18:52.137002200Z",
     "start_time": "2023-12-21T04:18:52.056223200Z"
    }
   },
   "id": "25863fbfce7c93f3"
  },
  {
   "cell_type": "markdown",
   "source": [
    "## Grouping values\n",
    "\n",
    "We can also group categorical (and other) values using the `groupby()` function. You will also need an arithmatic function to get the full utility out of the function."
   ],
   "metadata": {
    "collapsed": false
   },
   "id": "829ee66028e7ca1e"
  },
  {
   "cell_type": "code",
   "execution_count": 11,
   "outputs": [
    {
     "data": {
      "text/plain": "Pclass\n1    136\n2     87\n3    119\nName: Survived, dtype: int64"
     },
     "execution_count": 11,
     "metadata": {},
     "output_type": "execute_result"
    }
   ],
   "source": [
    "# For this example, we can sum the total value in a column per group of another column.\n",
    "csv_data.groupby('Pclass')['Survived'].sum()"
   ],
   "metadata": {
    "collapsed": false,
    "ExecuteTime": {
     "end_time": "2023-12-21T04:10:26.379622700Z",
     "start_time": "2023-12-21T04:10:25.841741900Z"
    }
   },
   "id": "a39531abc3962a7d"
  },
  {
   "cell_type": "code",
   "execution_count": 12,
   "outputs": [
    {
     "data": {
      "text/plain": "Pclass\n1    0.0\n2    0.0\n3    0.0\nName: Fare, dtype: float64"
     },
     "execution_count": 12,
     "metadata": {},
     "output_type": "execute_result"
    }
   ],
   "source": [
    "# Note that we can also perform other operations such as average, max, min, etc. \n",
    "csv_data.groupby('Pclass')['Fare'].min()"
   ],
   "metadata": {
    "collapsed": false,
    "ExecuteTime": {
     "end_time": "2023-12-21T04:10:26.411163900Z",
     "start_time": "2023-12-21T04:10:25.861680900Z"
    }
   },
   "id": "c1f3e95ac20318a5"
  },
  {
   "cell_type": "code",
   "execution_count": 13,
   "outputs": [
    {
     "data": {
      "text/plain": "Pclass\n1    512.3292\n2     73.5000\n3     69.5500\nName: Fare, dtype: float64"
     },
     "execution_count": 13,
     "metadata": {},
     "output_type": "execute_result"
    }
   ],
   "source": [
    "csv_data.groupby('Pclass')['Fare'].max()"
   ],
   "metadata": {
    "collapsed": false,
    "ExecuteTime": {
     "end_time": "2023-12-21T04:10:26.413148800Z",
     "start_time": "2023-12-21T04:10:25.905788700Z"
    }
   },
   "id": "7d65267167273db8"
  },
  {
   "cell_type": "code",
   "execution_count": 14,
   "outputs": [
    {
     "data": {
      "text/plain": "Pclass\n1    84.154687\n2    20.662183\n3    13.675550\nName: Fare, dtype: float64"
     },
     "execution_count": 14,
     "metadata": {},
     "output_type": "execute_result"
    }
   ],
   "source": [
    "csv_data.groupby('Pclass')['Fare'].mean()"
   ],
   "metadata": {
    "collapsed": false,
    "ExecuteTime": {
     "end_time": "2023-12-21T04:10:26.475477300Z",
     "start_time": "2023-12-21T04:10:25.926292900Z"
    }
   },
   "id": "e0c88eedc902a949"
  },
  {
   "cell_type": "code",
   "execution_count": 15,
   "outputs": [
    {
     "data": {
      "text/plain": "               sum       mean  min       max        std  count\nPclass                                                        \n1       18177.4125  84.154687  0.0  512.3292  78.380373    216\n2        3801.8417  20.662183  0.0   73.5000  13.417399    184\n3        6714.6951  13.675550  0.0   69.5500  11.778142    491",
      "text/html": "<div>\n<style scoped>\n    .dataframe tbody tr th:only-of-type {\n        vertical-align: middle;\n    }\n\n    .dataframe tbody tr th {\n        vertical-align: top;\n    }\n\n    .dataframe thead th {\n        text-align: right;\n    }\n</style>\n<table border=\"1\" class=\"dataframe\">\n  <thead>\n    <tr style=\"text-align: right;\">\n      <th></th>\n      <th>sum</th>\n      <th>mean</th>\n      <th>min</th>\n      <th>max</th>\n      <th>std</th>\n      <th>count</th>\n    </tr>\n    <tr>\n      <th>Pclass</th>\n      <th></th>\n      <th></th>\n      <th></th>\n      <th></th>\n      <th></th>\n      <th></th>\n    </tr>\n  </thead>\n  <tbody>\n    <tr>\n      <th>1</th>\n      <td>18177.4125</td>\n      <td>84.154687</td>\n      <td>0.0</td>\n      <td>512.3292</td>\n      <td>78.380373</td>\n      <td>216</td>\n    </tr>\n    <tr>\n      <th>2</th>\n      <td>3801.8417</td>\n      <td>20.662183</td>\n      <td>0.0</td>\n      <td>73.5000</td>\n      <td>13.417399</td>\n      <td>184</td>\n    </tr>\n    <tr>\n      <th>3</th>\n      <td>6714.6951</td>\n      <td>13.675550</td>\n      <td>0.0</td>\n      <td>69.5500</td>\n      <td>11.778142</td>\n      <td>491</td>\n    </tr>\n  </tbody>\n</table>\n</div>"
     },
     "execution_count": 15,
     "metadata": {},
     "output_type": "execute_result"
    }
   ],
   "source": [
    "# Or you could get them all at once using the 'agg' function.\n",
    "csv_data.groupby('Pclass')['Fare'].agg(['sum', 'mean', 'min', 'max', 'std', 'count'])"
   ],
   "metadata": {
    "collapsed": false,
    "ExecuteTime": {
     "end_time": "2023-12-21T04:10:26.477601900Z",
     "start_time": "2023-12-21T04:10:25.949003700Z"
    }
   },
   "id": "23f5ffb1ec036165"
  },
  {
   "cell_type": "markdown",
   "source": [
    "## Sorting\n",
    "\n",
    "We can also sort the grouped values using the `sort_values()` function.\n",
    "We will also learn how to create a variable that stores the data we want to save. It's as easy as typing '='."
   ],
   "metadata": {
    "collapsed": false
   },
   "id": "ae8792f55d61c5e6"
  },
  {
   "cell_type": "code",
   "execution_count": 33,
   "outputs": [
    {
     "data": {
      "text/plain": "               sum       mean  min       max        std  count\nPclass                                                        \n2        3801.8417  20.662183  0.0   73.5000  13.417399    184\n1       18177.4125  84.154687  0.0  512.3292  78.380373    216\n3        6714.6951  13.675550  0.0   69.5500  11.778142    491",
      "text/html": "<div>\n<style scoped>\n    .dataframe tbody tr th:only-of-type {\n        vertical-align: middle;\n    }\n\n    .dataframe tbody tr th {\n        vertical-align: top;\n    }\n\n    .dataframe thead th {\n        text-align: right;\n    }\n</style>\n<table border=\"1\" class=\"dataframe\">\n  <thead>\n    <tr style=\"text-align: right;\">\n      <th></th>\n      <th>sum</th>\n      <th>mean</th>\n      <th>min</th>\n      <th>max</th>\n      <th>std</th>\n      <th>count</th>\n    </tr>\n    <tr>\n      <th>Pclass</th>\n      <th></th>\n      <th></th>\n      <th></th>\n      <th></th>\n      <th></th>\n      <th></th>\n    </tr>\n  </thead>\n  <tbody>\n    <tr>\n      <th>2</th>\n      <td>3801.8417</td>\n      <td>20.662183</td>\n      <td>0.0</td>\n      <td>73.5000</td>\n      <td>13.417399</td>\n      <td>184</td>\n    </tr>\n    <tr>\n      <th>1</th>\n      <td>18177.4125</td>\n      <td>84.154687</td>\n      <td>0.0</td>\n      <td>512.3292</td>\n      <td>78.380373</td>\n      <td>216</td>\n    </tr>\n    <tr>\n      <th>3</th>\n      <td>6714.6951</td>\n      <td>13.675550</td>\n      <td>0.0</td>\n      <td>69.5500</td>\n      <td>11.778142</td>\n      <td>491</td>\n    </tr>\n  </tbody>\n</table>\n</div>"
     },
     "execution_count": 33,
     "metadata": {},
     "output_type": "execute_result"
    }
   ],
   "source": [
    "# We will create a variable named 'grouped_data' using '=' operator.\n",
    "grouped_data = csv_data.groupby('Pclass')['Fare'].agg(['sum', 'mean', 'min', 'max', 'std', 'count'])\n",
    "\n",
    "# Now we will sort the dataframe by count.\n",
    "grouped_data.sort_values(by='count')"
   ],
   "metadata": {
    "collapsed": false,
    "ExecuteTime": {
     "end_time": "2023-12-21T04:39:45.202817500Z",
     "start_time": "2023-12-21T04:39:45.144610300Z"
    }
   },
   "id": "ccfc0a4e4197127d"
  },
  {
   "cell_type": "code",
   "execution_count": 16,
   "outputs": [],
   "source": [],
   "metadata": {
    "collapsed": false,
    "ExecuteTime": {
     "end_time": "2023-12-21T04:10:26.485704700Z",
     "start_time": "2023-12-21T04:10:26.049604500Z"
    }
   },
   "id": "1c6938a47d4132ea"
  }
 ],
 "metadata": {
  "kernelspec": {
   "name": "python3",
   "language": "python",
   "display_name": "Python 3 (ipykernel)"
  }
 },
 "nbformat": 4,
 "nbformat_minor": 5
}
